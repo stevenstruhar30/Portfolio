{
  "nbformat": 4,
  "nbformat_minor": 0,
  "metadata": {
    "colab": {
      "name": "01_the_machine_learning_landscape.ipynb",
      "version": "0.3.2",
      "provenance": [],
      "collapsed_sections": [],
      "include_colab_link": true
    },
    "kernelspec": {
      "name": "python3",
      "display_name": "Python 3"
    }
  },
  "cells": [
    {
      "cell_type": "markdown",
      "metadata": {
        "id": "view-in-github",
        "colab_type": "text"
      },
      "source": [
        "<a href=\"https://colab.research.google.com/github/stevenstruhar30/Portfolio/blob/master/01_the_machine_learning_landscape.ipynb\" target=\"_parent\"><img src=\"https://colab.research.google.com/assets/colab-badge.svg\" alt=\"Open In Colab\"/></a>"
      ]
    },
    {
      "metadata": {
        "id": "TTUaxX7XQKM_",
        "colab_type": "text"
      },
      "cell_type": "markdown",
      "source": [
        "Steve Struhar\n",
        "Chris Arntzen\n",
        "Avik Dhakal\n",
        "\n",
        "\n",
        "\n",
        "> This assignment is due on ?? Probably 1/23 at 11:59 PM\n",
        "\n"
      ]
    },
    {
      "metadata": {
        "id": "rL3ZnRyw8lrj",
        "colab_type": "text"
      },
      "cell_type": "markdown",
      "source": [
        "1. How would you define Machine Learning?\n",
        "\n"
      ]
    },
    {
      "metadata": {
        "id": "fmQq5Ee28_jS",
        "colab_type": "text"
      },
      "cell_type": "markdown",
      "source": [
        "* The science of programming computers in a manner that allows them to learn and improve accuracy from data inputs and from outcomes.\n",
        "\n"
      ]
    },
    {
      "metadata": {
        "id": "hn202lnY9BY1",
        "colab_type": "text"
      },
      "cell_type": "markdown",
      "source": [
        "2. Can you name four types of problems where it shines?\n"
      ]
    },
    {
      "metadata": {
        "id": "VqmqePxt9E6M",
        "colab_type": "text"
      },
      "cell_type": "markdown",
      "source": [
        "* Problems for which existing solutions require a lot of hand-tuning or long\n",
        "lists of rules: one Machine Learning algorithm can often simplify code and perform better.\n",
        "* Complex problems for which there is no good solution at all using a traditional approach: the best\n",
        "Machine Learning techniques can find a solution.\n",
        "* Fluctuating environments: a Machine Learning system can adapt to new data.\n",
        "* Getting insights about complex problems and large amounts of data.\n",
        "\n"
      ]
    },
    {
      "metadata": {
        "id": "Dl9aDrWT9FKu",
        "colab_type": "text"
      },
      "cell_type": "markdown",
      "source": [
        "3. What is a labeled training set?\n",
        "\n",
        "\n",
        "\n"
      ]
    },
    {
      "metadata": {
        "id": "u7sZDsSe9JpH",
        "colab_type": "text"
      },
      "cell_type": "markdown",
      "source": [
        "* A labeled training set is a set of data that has been evaluated and classified by a human in a supervised training setting."
      ]
    },
    {
      "metadata": {
        "id": "ZVC0TpZa9KEh",
        "colab_type": "text"
      },
      "cell_type": "markdown",
      "source": [
        "4. What are the two most common supervised tasks?\n"
      ]
    },
    {
      "metadata": {
        "id": "HS_Ttrj99KKn",
        "colab_type": "text"
      },
      "cell_type": "markdown",
      "source": [
        "* Classification\n",
        "* Predictors\n"
      ]
    },
    {
      "metadata": {
        "id": "yJcBa8z89KNN",
        "colab_type": "text"
      },
      "cell_type": "markdown",
      "source": [
        "5. Can you name four common unsupervised tasks?\n",
        "\n"
      ]
    },
    {
      "metadata": {
        "id": "NtO2kIUE9KRx",
        "colab_type": "text"
      },
      "cell_type": "markdown",
      "source": [
        "* Clustering\n",
        "* Visualization\n",
        "* Dimensionality Reduction\n",
        "* Anomoly Detection\n"
      ]
    },
    {
      "metadata": {
        "id": "Z5cDXeqG9KVD",
        "colab_type": "text"
      },
      "cell_type": "markdown",
      "source": [
        "6. What type of Machine Learning algorithm would you use to allow a robot to walk in various unknown terrains?\n",
        "\n"
      ]
    },
    {
      "metadata": {
        "id": "YOOfpRAW9Kaz",
        "colab_type": "text"
      },
      "cell_type": "markdown",
      "source": [
        "* Reinforcement learning would be best suited to this problem given unknown situations\n",
        "\n"
      ]
    },
    {
      "metadata": {
        "id": "0hq5y0EA9Kd2",
        "colab_type": "text"
      },
      "cell_type": "markdown",
      "source": [
        "7. What type of algorithm would you use to segment your customers into multiple groups?\n",
        "\n"
      ]
    },
    {
      "metadata": {
        "id": "NhayV3-29Kk5",
        "colab_type": "text"
      },
      "cell_type": "markdown",
      "source": [
        "* Clustering alorithm suits this scenario best allowing you to segment customers into similar groups. Classification may also work if you have defined groups and want to put existing customers into them.\n"
      ]
    },
    {
      "metadata": {
        "id": "_Mqq69Hd9Koi",
        "colab_type": "text"
      },
      "cell_type": "markdown",
      "source": [
        "8. Would you frame the problem of spam detection as a supervised learning problem or an unsupervised learning problem?\n"
      ]
    },
    {
      "metadata": {
        "id": "0qklXp1b9Kut",
        "colab_type": "text"
      },
      "cell_type": "markdown",
      "source": [
        "* Supervised.\n"
      ]
    },
    {
      "metadata": {
        "id": "ct1gQ7M99Kx6",
        "colab_type": "text"
      },
      "cell_type": "markdown",
      "source": [
        "9. What is an online learning system?\n"
      ]
    },
    {
      "metadata": {
        "id": "4WSt4NZi9K3Y",
        "colab_type": "text"
      },
      "cell_type": "markdown",
      "source": [
        "* Online systems are able to learn incrementally as problems arise and are solved in incoming data."
      ]
    },
    {
      "metadata": {
        "id": "fDGifHyZ9K6W",
        "colab_type": "text"
      },
      "cell_type": "markdown",
      "source": [
        "10. What is out-of-core learning?\n"
      ]
    },
    {
      "metadata": {
        "id": "KKHT_N1G9LAV",
        "colab_type": "text"
      },
      "cell_type": "markdown",
      "source": [
        "* Out-of-core learning means batching the input data into small chunks that are not in main memory and learning from the small batches in an online manner.\n"
      ]
    },
    {
      "metadata": {
        "id": "rUWbmflH9LDm",
        "colab_type": "text"
      },
      "cell_type": "markdown",
      "source": [
        "11. What type of learning algorithm relies on a similarity measure to make predictions?\n",
        " "
      ]
    },
    {
      "metadata": {
        "id": "uLbU7Adb9LJW",
        "colab_type": "text"
      },
      "cell_type": "markdown",
      "source": [
        "* Instance based systems use similarity measures to find or classify new instances to a learned set of models.\n"
      ]
    },
    {
      "metadata": {
        "id": "_aIe8Dr29LL6",
        "colab_type": "text"
      },
      "cell_type": "markdown",
      "source": [
        "12. What is the difference between a model parameter and a learning algorithm’s hyperparameter?\n"
      ]
    },
    {
      "metadata": {
        "id": "GkcNftOf9LRa",
        "colab_type": "text"
      },
      "cell_type": "markdown",
      "source": [
        "* A model parameter is used by models to determine matching or other internal model behaviors and seeks to tune these parameters such that the outcomes are optimized. Hyperparameters are used by the learning algorithm itself to tune it's behavior and use of models.\n"
      ]
    },
    {
      "metadata": {
        "id": "gV6OhNz19LU8",
        "colab_type": "text"
      },
      "cell_type": "markdown",
      "source": [
        "13. What do model-based learning algorithms search for? What is the most common strategy they use to succeed? How do they make predictions?\n"
      ]
    },
    {
      "metadata": {
        "id": "2BObYQ3d9Olp",
        "colab_type": "text"
      },
      "cell_type": "markdown",
      "source": [
        "\n",
        "* Model based algorithms search for the best model parameters that allow the system to use the models to identify new instances to the models.The system is trained by determining a cost value for how successful the system is at making a prediction and then optimizing for the cost value. New instances are evaluated by feeding them into the the prediction mechanism with the parameters that are found to be the most optimal at the time of prediction."
      ]
    },
    {
      "metadata": {
        "id": "4swQvkTT9Ooy",
        "colab_type": "text"
      },
      "cell_type": "markdown",
      "source": [
        "14. Can you name four of the main challenges in Machine Learning?\n"
      ]
    },
    {
      "metadata": {
        "id": "QDDMjQYx9Oux",
        "colab_type": "text"
      },
      "cell_type": "markdown",
      "source": [
        "* Lack of adequate data\n",
        "* poor quality of data\n",
        "* Non-representative data\n",
        "* Overly simplistic models\n",
        "* Overly complex models\n"
      ]
    },
    {
      "metadata": {
        "id": "AmlxmdI-9OzO",
        "colab_type": "text"
      },
      "cell_type": "markdown",
      "source": [
        "15. If your model performs great on the training data but generalizes poorly to new instances, what is happening? Can you name three possible solutions?\n"
      ]
    },
    {
      "metadata": {
        "id": "etaYYpfE9O6e",
        "colab_type": "text"
      },
      "cell_type": "markdown",
      "source": [
        "* Generally this indicates that the model suffers from overfitting to the training data. This can be resolved with more diverse data, model simplification, or noise reduction in the training data."
      ]
    },
    {
      "metadata": {
        "id": "EXdWO7zD9O_L",
        "colab_type": "text"
      },
      "cell_type": "markdown",
      "source": [
        "16. What is a test set and why would you want to use it?\n"
      ]
    },
    {
      "metadata": {
        "id": "F1pd6Js59PFx",
        "colab_type": "text"
      },
      "cell_type": "markdown",
      "source": [
        "* A test set is a set of data that is held back from training that can be used to estimate accuracy of the model against new instances.\n"
      ]
    },
    {
      "metadata": {
        "id": "ZJ1NesiC9PJn",
        "colab_type": "text"
      },
      "cell_type": "markdown",
      "source": [
        "17. What is the purpose of a validation set?\n"
      ]
    },
    {
      "metadata": {
        "id": "_Aw9YMi99PQZ",
        "colab_type": "text"
      },
      "cell_type": "markdown",
      "source": [
        "* A validation set is a set of data that is used to compare different possible models in order to select and use the best models in a production setting.\n"
      ]
    },
    {
      "metadata": {
        "id": "zOLnEKLb9PVA",
        "colab_type": "text"
      },
      "cell_type": "markdown",
      "source": [
        "18. What can go wrong if you tune hyperparameters using the test set?\n"
      ]
    },
    {
      "metadata": {
        "id": "LVKS5XZY9QME",
        "colab_type": "text"
      },
      "cell_type": "markdown",
      "source": [
        "* Tuning the hyperparameters to the test set will make your measure of generalization error overly-rosey and will likely result in an underperforming model in production.\n"
      ]
    },
    {
      "metadata": {
        "id": "iEWWILXG9QPh",
        "colab_type": "text"
      },
      "cell_type": "markdown",
      "source": [
        "19. What is cross-validation and why would you prefer it to a validation set?\n"
      ]
    },
    {
      "metadata": {
        "id": "KLaMAKbDOH-E",
        "colab_type": "text"
      },
      "cell_type": "markdown",
      "source": [
        "* Cross Validation allows you to compare models to one another without needing to use a validation set.\n"
      ]
    },
    {
      "metadata": {
        "id": "cS-jtRWYRptW",
        "colab_type": "code",
        "colab": {}
      },
      "cell_type": "code",
      "source": [
        "\n",
        "# To support both python 2 and python 3\n",
        "from __future__ import division, print_function, unicode_literals\n",
        "\n",
        "# Common imports\n",
        "import numpy as np\n",
        "import os\n",
        "\n",
        "# to make this notebook's output stable across runs\n",
        "np.random.seed(42)\n",
        "\n",
        "# To plot pretty figures\n",
        "%matplotlib inline\n",
        "import matplotlib as mpl\n",
        "import matplotlib.pyplot as plt\n",
        "mpl.rc('axes', labelsize=14)\n",
        "mpl.rc('xtick', labelsize=12)\n",
        "mpl.rc('ytick', labelsize=12)\n",
        "\n",
        "# Where to save the figures\n",
        "PROJECT_ROOT_DIR = \".\"\n",
        "CHAPTER_ID = \"fundamentals\"\n",
        "\n",
        "def save_fig(fig_id, tight_layout=True):\n",
        "    path = os.path.join(PROJECT_ROOT_DIR, \"images\", CHAPTER_ID, fig_id + \".png\")\n",
        "    print(\"Saving figure\", fig_id)\n",
        "    if tight_layout:\n",
        "        plt.tight_layout()\n",
        "    plt.savefig(path, format='png', dpi=300)\n",
        "\n",
        "# Ignore useless warnings (see SciPy issue #5998)\n",
        "import warnings\n",
        "warnings.filterwarnings(action=\"ignore\", message=\"^internal gelsd\")"
      ],
      "execution_count": 0,
      "outputs": []
    },
    {
      "metadata": {
        "id": "JQmHnfxERuOl",
        "colab_type": "code",
        "colab": {}
      },
      "cell_type": "code",
      "source": [
        "def prepare_country_stats(oecd_bli, gdp_per_capita):\n",
        "    oecd_bli = oecd_bli[oecd_bli[\"INEQUALITY\"]==\"TOT\"]\n",
        "    oecd_bli = oecd_bli.pivot(index=\"Country\", columns=\"Indicator\", values=\"Value\")\n",
        "    gdp_per_capita.rename(columns={\"2015\": \"GDP per capita\"}, inplace=True)\n",
        "    gdp_per_capita.set_index(\"Country\", inplace=True)\n",
        "    full_country_stats = pd.merge(left=oecd_bli, right=gdp_per_capita,\n",
        "                                  left_index=True, right_index=True)\n",
        "    full_country_stats.sort_values(by=\"GDP per capita\", inplace=True)\n",
        "    remove_indices = [0, 1, 6, 8, 33, 34, 35]\n",
        "    keep_indices = list(set(range(36)) - set(remove_indices))\n",
        "    return full_country_stats[[\"GDP per capita\", 'Life satisfaction']].iloc[keep_indices]"
      ],
      "execution_count": 0,
      "outputs": []
    },
    {
      "metadata": {
        "id": "kopMDVQbRxrv",
        "colab_type": "code",
        "colab": {}
      },
      "cell_type": "code",
      "source": [
        "import os\n",
        "datapath = os.path.join(\"datasets\", \"lifesat\", \"\")"
      ],
      "execution_count": 0,
      "outputs": []
    },
    {
      "metadata": {
        "id": "1Tiiwnr4R0uh",
        "colab_type": "code",
        "outputId": "5d9450a0-82a6-4c26-b3e8-3a1d074d8351",
        "colab": {
          "base_uri": "https://localhost:8080/",
          "height": 339
        }
      },
      "cell_type": "code",
      "source": [
        "\n",
        "# Code example\n",
        "import matplotlib.pyplot as plt\n",
        "import numpy as np\n",
        "import pandas as pd\n",
        "import sklearn.linear_model\n",
        "\n",
        "# Load the data\n",
        "oecd_bli = pd.read_csv(\"https://raw.githubusercontent.com/ageron/handson-ml/master/datasets/lifesat/oecd_bli_2015.csv\", thousands=',')\n",
        "gdp_per_capita = pd.read_csv(\"https://raw.githubusercontent.com/ageron/handson-ml/master/datasets/lifesat/gdp_per_capita.csv\",thousands=',',delimiter='\\t',\n",
        "                             encoding='latin1', na_values=\"n/a\")\n",
        "\n",
        "# Prepare the data\n",
        "country_stats = prepare_country_stats(oecd_bli, gdp_per_capita)\n",
        "X = np.c_[country_stats[\"GDP per capita\"]]\n",
        "y = np.c_[country_stats[\"Life satisfaction\"]]\n",
        "\n",
        "# Visualize the data\n",
        "country_stats.plot(kind='scatter', x=\"GDP per capita\", y='Life satisfaction')\n",
        "plt.show()\n",
        "\n",
        "# Select a linear model\n",
        "model = sklearn.linear_model.LinearRegression()\n",
        "\n",
        "# Train the model\n",
        "model.fit(X, y)\n",
        "\n",
        "# Make a prediction for Cyprus\n",
        "X_new = [[22587]]  # Cyprus' GDP per capita\n",
        "print(model.predict(X_new)) # outputs [[ 5.96242338]]"
      ],
      "execution_count": 125,
      "outputs": [
        {
          "output_type": "stream",
          "text": [
            "'c' argument looks like a single numeric RGB or RGBA sequence, which should be avoided as value-mapping will have precedence in case its length matches with 'x' & 'y'.  Please use a 2-D array with a single row if you really want to specify the same RGB or RGBA value for all points.\n"
          ],
          "name": "stderr"
        },
        {
          "output_type": "display_data",
          "data": {
            "image/png": "[encoded data removed]",
            "text/plain": [
              "<Figure size 432x288 with 1 Axes>"
            ]
          },
          "metadata": {
            "tags": []
          }
        },
        {
          "output_type": "stream",
          "text": [
            "[[5.96242338]]\n"
          ],
          "name": "stdout"
        }
      ]
    },
    {
      "metadata": {
        "id": "KhuRI88EU85n",
        "colab_type": "code",
        "outputId": "630e5e88-e134-4e9f-f99a-4dcc23c5db95",
        "colab": {
          "base_uri": "https://localhost:8080/",
          "height": 293
        }
      },
      "cell_type": "code",
      "source": [
        "oecd_bli = pd.read_csv(\"https://raw.githubusercontent.com/ageron/handson-ml/master/datasets/lifesat/oecd_bli_2015.csv\", thousands=',')\n",
        "oecd_bli = oecd_bli[oecd_bli[\"INEQUALITY\"]==\"TOT\"]\n",
        "oecd_bli = oecd_bli.pivot(index=\"Country\", columns=\"Indicator\", values=\"Value\")\n",
        "oecd_bli.head(2)"
      ],
      "execution_count": 126,
      "outputs": [
        {
          "output_type": "execute_result",
          "data": {
            "text/html": [
              "<div>\n",
              "<style scoped>\n",
              "    .dataframe tbody tr th:only-of-type {\n",
              "        vertical-align: middle;\n",
              "    }\n",
              "\n",
              "    .dataframe tbody tr th {\n",
              "        vertical-align: top;\n",
              "    }\n",
              "\n",
              "    .dataframe thead th {\n",
              "        text-align: right;\n",
              "    }\n",
              "</style>\n",
              "<table border=\"1\" class=\"dataframe\">\n",
              "  <thead>\n",
              "    <tr style=\"text-align: right;\">\n",
              "      <th>Indicator</th>\n",
              "      <th>Air pollution</th>\n",
              "      <th>Assault rate</th>\n",
              "      <th>Consultation on rule-making</th>\n",
              "      <th>Dwellings without basic facilities</th>\n",
              "      <th>Educational attainment</th>\n",
              "      <th>Employees working very long hours</th>\n",
              "      <th>Employment rate</th>\n",
              "      <th>Homicide rate</th>\n",
              "      <th>Household net adjusted disposable income</th>\n",
              "      <th>Household net financial wealth</th>\n",
              "      <th>...</th>\n",
              "      <th>Long-term unemployment rate</th>\n",
              "      <th>Personal earnings</th>\n",
              "      <th>Quality of support network</th>\n",
              "      <th>Rooms per person</th>\n",
              "      <th>Self-reported health</th>\n",
              "      <th>Student skills</th>\n",
              "      <th>Time devoted to leisure and personal care</th>\n",
              "      <th>Voter turnout</th>\n",
              "      <th>Water quality</th>\n",
              "      <th>Years in education</th>\n",
              "    </tr>\n",
              "    <tr>\n",
              "      <th>Country</th>\n",
              "      <th></th>\n",
              "      <th></th>\n",
              "      <th></th>\n",
              "      <th></th>\n",
              "      <th></th>\n",
              "      <th></th>\n",
              "      <th></th>\n",
              "      <th></th>\n",
              "      <th></th>\n",
              "      <th></th>\n",
              "      <th></th>\n",
              "      <th></th>\n",
              "      <th></th>\n",
              "      <th></th>\n",
              "      <th></th>\n",
              "      <th></th>\n",
              "      <th></th>\n",
              "      <th></th>\n",
              "      <th></th>\n",
              "      <th></th>\n",
              "      <th></th>\n",
              "    </tr>\n",
              "  </thead>\n",
              "  <tbody>\n",
              "    <tr>\n",
              "      <th>Australia</th>\n",
              "      <td>13.0</td>\n",
              "      <td>2.1</td>\n",
              "      <td>10.5</td>\n",
              "      <td>1.1</td>\n",
              "      <td>76.0</td>\n",
              "      <td>14.02</td>\n",
              "      <td>72.0</td>\n",
              "      <td>0.8</td>\n",
              "      <td>31588.0</td>\n",
              "      <td>47657.0</td>\n",
              "      <td>...</td>\n",
              "      <td>1.08</td>\n",
              "      <td>50449.0</td>\n",
              "      <td>92.0</td>\n",
              "      <td>2.3</td>\n",
              "      <td>85.0</td>\n",
              "      <td>512.0</td>\n",
              "      <td>14.41</td>\n",
              "      <td>93.0</td>\n",
              "      <td>91.0</td>\n",
              "      <td>19.4</td>\n",
              "    </tr>\n",
              "    <tr>\n",
              "      <th>Austria</th>\n",
              "      <td>27.0</td>\n",
              "      <td>3.4</td>\n",
              "      <td>7.1</td>\n",
              "      <td>1.0</td>\n",
              "      <td>83.0</td>\n",
              "      <td>7.61</td>\n",
              "      <td>72.0</td>\n",
              "      <td>0.4</td>\n",
              "      <td>31173.0</td>\n",
              "      <td>49887.0</td>\n",
              "      <td>...</td>\n",
              "      <td>1.19</td>\n",
              "      <td>45199.0</td>\n",
              "      <td>89.0</td>\n",
              "      <td>1.6</td>\n",
              "      <td>69.0</td>\n",
              "      <td>500.0</td>\n",
              "      <td>14.46</td>\n",
              "      <td>75.0</td>\n",
              "      <td>94.0</td>\n",
              "      <td>17.0</td>\n",
              "    </tr>\n",
              "  </tbody>\n",
              "</table>\n",
              "<p>2 rows × 24 columns</p>\n",
              "</div>"
            ],
            "text/plain": [
              "Indicator  Air pollution  Assault rate  Consultation on rule-making  \\\n",
              "Country                                                               \n",
              "Australia           13.0           2.1                         10.5   \n",
              "Austria             27.0           3.4                          7.1   \n",
              "\n",
              "Indicator  Dwellings without basic facilities  Educational attainment  \\\n",
              "Country                                                                 \n",
              "Australia                                 1.1                    76.0   \n",
              "Austria                                   1.0                    83.0   \n",
              "\n",
              "Indicator  Employees working very long hours  Employment rate  Homicide rate  \\\n",
              "Country                                                                        \n",
              "Australia                              14.02             72.0            0.8   \n",
              "Austria                                 7.61             72.0            0.4   \n",
              "\n",
              "Indicator  Household net adjusted disposable income  \\\n",
              "Country                                               \n",
              "Australia                                   31588.0   \n",
              "Austria                                     31173.0   \n",
              "\n",
              "Indicator  Household net financial wealth         ...          \\\n",
              "Country                                           ...           \n",
              "Australia                         47657.0         ...           \n",
              "Austria                           49887.0         ...           \n",
              "\n",
              "Indicator  Long-term unemployment rate  Personal earnings  \\\n",
              "Country                                                     \n",
              "Australia                         1.08            50449.0   \n",
              "Austria                           1.19            45199.0   \n",
              "\n",
              "Indicator  Quality of support network  Rooms per person  Self-reported health  \\\n",
              "Country                                                                         \n",
              "Australia                        92.0               2.3                  85.0   \n",
              "Austria                          89.0               1.6                  69.0   \n",
              "\n",
              "Indicator  Student skills  Time devoted to leisure and personal care  \\\n",
              "Country                                                                \n",
              "Australia           512.0                                      14.41   \n",
              "Austria             500.0                                      14.46   \n",
              "\n",
              "Indicator  Voter turnout  Water quality  Years in education  \n",
              "Country                                                      \n",
              "Australia           93.0           91.0                19.4  \n",
              "Austria             75.0           94.0                17.0  \n",
              "\n",
              "[2 rows x 24 columns]"
            ]
          },
          "metadata": {
            "tags": []
          },
          "execution_count": 126
        }
      ]
    },
    {
      "metadata": {
        "id": "O7_vFHceVFRT",
        "colab_type": "code",
        "outputId": "cff8856d-ad61-49af-9fc4-08798ca7e274",
        "colab": {
          "base_uri": "https://localhost:8080/",
          "height": 136
        }
      },
      "cell_type": "code",
      "source": [
        "oecd_bli[\"Life satisfaction\"].head()"
      ],
      "execution_count": 127,
      "outputs": [
        {
          "output_type": "execute_result",
          "data": {
            "text/plain": [
              "Country\n",
              "Australia    7.3\n",
              "Austria      6.9\n",
              "Belgium      6.9\n",
              "Brazil       7.0\n",
              "Canada       7.3\n",
              "Name: Life satisfaction, dtype: float64"
            ]
          },
          "metadata": {
            "tags": []
          },
          "execution_count": 127
        }
      ]
    },
    {
      "metadata": {
        "id": "8yWRICnwVKWL",
        "colab_type": "code",
        "outputId": "51ad2709-0111-49c1-9f14-3beb1eed6d1c",
        "colab": {
          "base_uri": "https://localhost:8080/",
          "height": 142
        }
      },
      "cell_type": "code",
      "source": [
        "gdp_per_capita = pd.read_csv(\"https://raw.githubusercontent.com/ageron/handson-ml/master/datasets/lifesat/gdp_per_capita.csv\", thousands=',', delimiter='\\t',\n",
        "                             encoding='latin1', na_values=\"n/a\")\n",
        "gdp_per_capita.rename(columns={\"2015\": \"GDP per capita\"}, inplace=True)\n",
        "gdp_per_capita.set_index(\"Country\", inplace=True)\n",
        "gdp_per_capita.head(2)"
      ],
      "execution_count": 128,
      "outputs": [
        {
          "output_type": "execute_result",
          "data": {
            "text/html": [
              "<div>\n",
              "<style scoped>\n",
              "    .dataframe tbody tr th:only-of-type {\n",
              "        vertical-align: middle;\n",
              "    }\n",
              "\n",
              "    .dataframe tbody tr th {\n",
              "        vertical-align: top;\n",
              "    }\n",
              "\n",
              "    .dataframe thead th {\n",
              "        text-align: right;\n",
              "    }\n",
              "</style>\n",
              "<table border=\"1\" class=\"dataframe\">\n",
              "  <thead>\n",
              "    <tr style=\"text-align: right;\">\n",
              "      <th></th>\n",
              "      <th>Subject Descriptor</th>\n",
              "      <th>Units</th>\n",
              "      <th>Scale</th>\n",
              "      <th>Country/Series-specific Notes</th>\n",
              "      <th>GDP per capita</th>\n",
              "      <th>Estimates Start After</th>\n",
              "    </tr>\n",
              "    <tr>\n",
              "      <th>Country</th>\n",
              "      <th></th>\n",
              "      <th></th>\n",
              "      <th></th>\n",
              "      <th></th>\n",
              "      <th></th>\n",
              "      <th></th>\n",
              "    </tr>\n",
              "  </thead>\n",
              "  <tbody>\n",
              "    <tr>\n",
              "      <th>Afghanistan</th>\n",
              "      <td>Gross domestic product per capita, current prices</td>\n",
              "      <td>U.S. dollars</td>\n",
              "      <td>Units</td>\n",
              "      <td>See notes for:  Gross domestic product, curren...</td>\n",
              "      <td>599.994</td>\n",
              "      <td>2013.0</td>\n",
              "    </tr>\n",
              "    <tr>\n",
              "      <th>Albania</th>\n",
              "      <td>Gross domestic product per capita, current prices</td>\n",
              "      <td>U.S. dollars</td>\n",
              "      <td>Units</td>\n",
              "      <td>See notes for:  Gross domestic product, curren...</td>\n",
              "      <td>3995.383</td>\n",
              "      <td>2010.0</td>\n",
              "    </tr>\n",
              "  </tbody>\n",
              "</table>\n",
              "</div>"
            ],
            "text/plain": [
              "                                            Subject Descriptor         Units  \\\n",
              "Country                                                                        \n",
              "Afghanistan  Gross domestic product per capita, current prices  U.S. dollars   \n",
              "Albania      Gross domestic product per capita, current prices  U.S. dollars   \n",
              "\n",
              "             Scale                      Country/Series-specific Notes  \\\n",
              "Country                                                                 \n",
              "Afghanistan  Units  See notes for:  Gross domestic product, curren...   \n",
              "Albania      Units  See notes for:  Gross domestic product, curren...   \n",
              "\n",
              "             GDP per capita  Estimates Start After  \n",
              "Country                                             \n",
              "Afghanistan         599.994                 2013.0  \n",
              "Albania            3995.383                 2010.0  "
            ]
          },
          "metadata": {
            "tags": []
          },
          "execution_count": 128
        }
      ]
    },
    {
      "metadata": {
        "id": "v0xssfLAVSDL",
        "colab_type": "code",
        "outputId": "d3a0c14a-ac6b-4c78-d051-f48a0d174fd2",
        "colab": {
          "base_uri": "https://localhost:8080/",
          "height": 3795
        }
      },
      "cell_type": "code",
      "source": [
        "full_country_stats = pd.merge(left=oecd_bli, right=gdp_per_capita, left_index=True, right_index=True)\n",
        "full_country_stats.sort_values(by=\"GDP per capita\", inplace=True)\n",
        "full_country_stats"
      ],
      "execution_count": 129,
      "outputs": [
        {
          "output_type": "execute_result",
          "data": {
            "text/html": [
              "<div>\n",
              "<style scoped>\n",
              "    .dataframe tbody tr th:only-of-type {\n",
              "        vertical-align: middle;\n",
              "    }\n",
              "\n",
              "    .dataframe tbody tr th {\n",
              "        vertical-align: top;\n",
              "    }\n",
              "\n",
              "    .dataframe thead th {\n",
              "        text-align: right;\n",
              "    }\n",
              "</style>\n",
              "<table border=\"1\" class=\"dataframe\">\n",
              "  <thead>\n",
              "    <tr style=\"text-align: right;\">\n",
              "      <th></th>\n",
              "      <th>Air pollution</th>\n",
              "      <th>Assault rate</th>\n",
              "      <th>Consultation on rule-making</th>\n",
              "      <th>Dwellings without basic facilities</th>\n",
              "      <th>Educational attainment</th>\n",
              "      <th>Employees working very long hours</th>\n",
              "      <th>Employment rate</th>\n",
              "      <th>Homicide rate</th>\n",
              "      <th>Household net adjusted disposable income</th>\n",
              "      <th>Household net financial wealth</th>\n",
              "      <th>...</th>\n",
              "      <th>Time devoted to leisure and personal care</th>\n",
              "      <th>Voter turnout</th>\n",
              "      <th>Water quality</th>\n",
              "      <th>Years in education</th>\n",
              "      <th>Subject Descriptor</th>\n",
              "      <th>Units</th>\n",
              "      <th>Scale</th>\n",
              "      <th>Country/Series-specific Notes</th>\n",
              "      <th>GDP per capita</th>\n",
              "      <th>Estimates Start After</th>\n",
              "    </tr>\n",
              "    <tr>\n",
              "      <th>Country</th>\n",
              "      <th></th>\n",
              "      <th></th>\n",
              "      <th></th>\n",
              "      <th></th>\n",
              "      <th></th>\n",
              "      <th></th>\n",
              "      <th></th>\n",
              "      <th></th>\n",
              "      <th></th>\n",
              "      <th></th>\n",
              "      <th></th>\n",
              "      <th></th>\n",
              "      <th></th>\n",
              "      <th></th>\n",
              "      <th></th>\n",
              "      <th></th>\n",
              "      <th></th>\n",
              "      <th></th>\n",
              "      <th></th>\n",
              "      <th></th>\n",
              "      <th></th>\n",
              "    </tr>\n",
              "  </thead>\n",
              "  <tbody>\n",
              "    <tr>\n",
              "      <th>Brazil</th>\n",
              "      <td>18.0</td>\n",
              "      <td>7.9</td>\n",
              "      <td>4.0</td>\n",
              "      <td>6.7</td>\n",
              "      <td>45.0</td>\n",
              "      <td>10.41</td>\n",
              "      <td>67.0</td>\n",
              "      <td>25.5</td>\n",
              "      <td>11664.0</td>\n",
              "      <td>6844.0</td>\n",
              "      <td>...</td>\n",
              "      <td>14.97</td>\n",
              "      <td>79.0</td>\n",
              "      <td>72.0</td>\n",
              "      <td>16.3</td>\n",
              "      <td>Gross domestic product per capita, current prices</td>\n",
              "      <td>U.S. dollars</td>\n",
              "      <td>Units</td>\n",
              "      <td>See notes for:  Gross domestic product, curren...</td>\n",
              "      <td>8669.998</td>\n",
              "      <td>2014.0</td>\n",
              "    </tr>\n",
              "    <tr>\n",
              "      <th>Mexico</th>\n",
              "      <td>30.0</td>\n",
              "      <td>12.8</td>\n",
              "      <td>9.0</td>\n",
              "      <td>4.2</td>\n",
              "      <td>37.0</td>\n",
              "      <td>28.83</td>\n",
              "      <td>61.0</td>\n",
              "      <td>23.4</td>\n",
              "      <td>13085.0</td>\n",
              "      <td>9056.0</td>\n",
              "      <td>...</td>\n",
              "      <td>13.89</td>\n",
              "      <td>63.0</td>\n",
              "      <td>67.0</td>\n",
              "      <td>14.4</td>\n",
              "      <td>Gross domestic product per capita, current prices</td>\n",
              "      <td>U.S. dollars</td>\n",
              "      <td>Units</td>\n",
              "      <td>See notes for:  Gross domestic product, curren...</td>\n",
              "      <td>9009.280</td>\n",
              "      <td>2015.0</td>\n",
              "    </tr>\n",
              "    <tr>\n",
              "      <th>Russia</th>\n",
              "      <td>15.0</td>\n",
              "      <td>3.8</td>\n",
              "      <td>2.5</td>\n",
              "      <td>15.1</td>\n",
              "      <td>94.0</td>\n",
              "      <td>0.16</td>\n",
              "      <td>69.0</td>\n",
              "      <td>12.8</td>\n",
              "      <td>19292.0</td>\n",
              "      <td>3412.0</td>\n",
              "      <td>...</td>\n",
              "      <td>14.97</td>\n",
              "      <td>65.0</td>\n",
              "      <td>56.0</td>\n",
              "      <td>16.0</td>\n",
              "      <td>Gross domestic product per capita, current prices</td>\n",
              "      <td>U.S. dollars</td>\n",
              "      <td>Units</td>\n",
              "      <td>See notes for:  Gross domestic product, curren...</td>\n",
              "      <td>9054.914</td>\n",
              "      <td>2015.0</td>\n",
              "    </tr>\n",
              "    <tr>\n",
              "      <th>Turkey</th>\n",
              "      <td>35.0</td>\n",
              "      <td>5.0</td>\n",
              "      <td>5.5</td>\n",
              "      <td>12.7</td>\n",
              "      <td>34.0</td>\n",
              "      <td>40.86</td>\n",
              "      <td>50.0</td>\n",
              "      <td>1.2</td>\n",
              "      <td>14095.0</td>\n",
              "      <td>3251.0</td>\n",
              "      <td>...</td>\n",
              "      <td>13.42</td>\n",
              "      <td>88.0</td>\n",
              "      <td>62.0</td>\n",
              "      <td>16.4</td>\n",
              "      <td>Gross domestic product per capita, current prices</td>\n",
              "      <td>U.S. dollars</td>\n",
              "      <td>Units</td>\n",
              "      <td>See notes for:  Gross domestic product, curren...</td>\n",
              "      <td>9437.372</td>\n",
              "      <td>2013.0</td>\n",
              "    </tr>\n",
              "    <tr>\n",
              "      <th>Hungary</th>\n",
              "      <td>15.0</td>\n",
              "      <td>3.6</td>\n",
              "      <td>7.9</td>\n",
              "      <td>4.8</td>\n",
              "      <td>82.0</td>\n",
              "      <td>3.19</td>\n",
              "      <td>58.0</td>\n",
              "      <td>1.3</td>\n",
              "      <td>15442.0</td>\n",
              "      <td>13277.0</td>\n",
              "      <td>...</td>\n",
              "      <td>15.04</td>\n",
              "      <td>62.0</td>\n",
              "      <td>77.0</td>\n",
              "      <td>17.6</td>\n",
              "      <td>Gross domestic product per capita, current prices</td>\n",
              "      <td>U.S. dollars</td>\n",
              "      <td>Units</td>\n",
              "      <td>See notes for:  Gross domestic product, curren...</td>\n",
              "      <td>12239.894</td>\n",
              "      <td>2015.0</td>\n",
              "    </tr>\n",
              "    <tr>\n",
              "      <th>Poland</th>\n",
              "      <td>33.0</td>\n",
              "      <td>1.4</td>\n",
              "      <td>10.8</td>\n",
              "      <td>3.2</td>\n",
              "      <td>90.0</td>\n",
              "      <td>7.41</td>\n",
              "      <td>60.0</td>\n",
              "      <td>0.9</td>\n",
              "      <td>17852.0</td>\n",
              "      <td>10919.0</td>\n",
              "      <td>...</td>\n",
              "      <td>14.20</td>\n",
              "      <td>55.0</td>\n",
              "      <td>79.0</td>\n",
              "      <td>18.4</td>\n",
              "      <td>Gross domestic product per capita, current prices</td>\n",
              "      <td>U.S. dollars</td>\n",
              "      <td>Units</td>\n",
              "      <td>See notes for:  Gross domestic product, curren...</td>\n",
              "      <td>12495.334</td>\n",
              "      <td>2014.0</td>\n",
              "    </tr>\n",
              "    <tr>\n",
              "      <th>Chile</th>\n",
              "      <td>46.0</td>\n",
              "      <td>6.9</td>\n",
              "      <td>2.0</td>\n",
              "      <td>9.4</td>\n",
              "      <td>57.0</td>\n",
              "      <td>15.42</td>\n",
              "      <td>62.0</td>\n",
              "      <td>4.4</td>\n",
              "      <td>14533.0</td>\n",
              "      <td>17733.0</td>\n",
              "      <td>...</td>\n",
              "      <td>14.41</td>\n",
              "      <td>49.0</td>\n",
              "      <td>73.0</td>\n",
              "      <td>16.5</td>\n",
              "      <td>Gross domestic product per capita, current prices</td>\n",
              "      <td>U.S. dollars</td>\n",
              "      <td>Units</td>\n",
              "      <td>See notes for:  Gross domestic product, curren...</td>\n",
              "      <td>13340.905</td>\n",
              "      <td>2014.0</td>\n",
              "    </tr>\n",
              "    <tr>\n",
              "      <th>Slovak Republic</th>\n",
              "      <td>13.0</td>\n",
              "      <td>3.0</td>\n",
              "      <td>6.6</td>\n",
              "      <td>0.6</td>\n",
              "      <td>92.0</td>\n",
              "      <td>7.02</td>\n",
              "      <td>60.0</td>\n",
              "      <td>1.2</td>\n",
              "      <td>17503.0</td>\n",
              "      <td>8663.0</td>\n",
              "      <td>...</td>\n",
              "      <td>14.99</td>\n",
              "      <td>59.0</td>\n",
              "      <td>81.0</td>\n",
              "      <td>16.3</td>\n",
              "      <td>Gross domestic product per capita, current prices</td>\n",
              "      <td>U.S. dollars</td>\n",
              "      <td>Units</td>\n",
              "      <td>See notes for:  Gross domestic product, curren...</td>\n",
              "      <td>15991.736</td>\n",
              "      <td>2015.0</td>\n",
              "    </tr>\n",
              "    <tr>\n",
              "      <th>Czech Republic</th>\n",
              "      <td>16.0</td>\n",
              "      <td>2.8</td>\n",
              "      <td>6.8</td>\n",
              "      <td>0.9</td>\n",
              "      <td>92.0</td>\n",
              "      <td>6.98</td>\n",
              "      <td>68.0</td>\n",
              "      <td>0.8</td>\n",
              "      <td>18404.0</td>\n",
              "      <td>17299.0</td>\n",
              "      <td>...</td>\n",
              "      <td>14.98</td>\n",
              "      <td>59.0</td>\n",
              "      <td>85.0</td>\n",
              "      <td>18.1</td>\n",
              "      <td>Gross domestic product per capita, current prices</td>\n",
              "      <td>U.S. dollars</td>\n",
              "      <td>Units</td>\n",
              "      <td>See notes for:  Gross domestic product, curren...</td>\n",
              "      <td>17256.918</td>\n",
              "      <td>2015.0</td>\n",
              "    </tr>\n",
              "    <tr>\n",
              "      <th>Estonia</th>\n",
              "      <td>9.0</td>\n",
              "      <td>5.5</td>\n",
              "      <td>3.3</td>\n",
              "      <td>8.1</td>\n",
              "      <td>90.0</td>\n",
              "      <td>3.30</td>\n",
              "      <td>68.0</td>\n",
              "      <td>4.8</td>\n",
              "      <td>15167.0</td>\n",
              "      <td>7680.0</td>\n",
              "      <td>...</td>\n",
              "      <td>14.90</td>\n",
              "      <td>64.0</td>\n",
              "      <td>79.0</td>\n",
              "      <td>17.5</td>\n",
              "      <td>Gross domestic product per capita, current prices</td>\n",
              "      <td>U.S. dollars</td>\n",
              "      <td>Units</td>\n",
              "      <td>See notes for:  Gross domestic product, curren...</td>\n",
              "      <td>17288.083</td>\n",
              "      <td>2014.0</td>\n",
              "    </tr>\n",
              "    <tr>\n",
              "      <th>Greece</th>\n",
              "      <td>27.0</td>\n",
              "      <td>3.7</td>\n",
              "      <td>6.5</td>\n",
              "      <td>0.7</td>\n",
              "      <td>68.0</td>\n",
              "      <td>6.16</td>\n",
              "      <td>49.0</td>\n",
              "      <td>1.6</td>\n",
              "      <td>18575.0</td>\n",
              "      <td>14579.0</td>\n",
              "      <td>...</td>\n",
              "      <td>14.91</td>\n",
              "      <td>64.0</td>\n",
              "      <td>69.0</td>\n",
              "      <td>18.6</td>\n",
              "      <td>Gross domestic product per capita, current prices</td>\n",
              "      <td>U.S. dollars</td>\n",
              "      <td>Units</td>\n",
              "      <td>See notes for:  Gross domestic product, curren...</td>\n",
              "      <td>18064.288</td>\n",
              "      <td>2014.0</td>\n",
              "    </tr>\n",
              "    <tr>\n",
              "      <th>Portugal</th>\n",
              "      <td>18.0</td>\n",
              "      <td>5.7</td>\n",
              "      <td>6.5</td>\n",
              "      <td>0.9</td>\n",
              "      <td>38.0</td>\n",
              "      <td>9.62</td>\n",
              "      <td>61.0</td>\n",
              "      <td>1.1</td>\n",
              "      <td>20086.0</td>\n",
              "      <td>31245.0</td>\n",
              "      <td>...</td>\n",
              "      <td>14.95</td>\n",
              "      <td>58.0</td>\n",
              "      <td>86.0</td>\n",
              "      <td>17.6</td>\n",
              "      <td>Gross domestic product per capita, current prices</td>\n",
              "      <td>U.S. dollars</td>\n",
              "      <td>Units</td>\n",
              "      <td>See notes for:  Gross domestic product, curren...</td>\n",
              "      <td>19121.592</td>\n",
              "      <td>2014.0</td>\n",
              "    </tr>\n",
              "    <tr>\n",
              "      <th>Slovenia</th>\n",
              "      <td>26.0</td>\n",
              "      <td>3.9</td>\n",
              "      <td>10.3</td>\n",
              "      <td>0.5</td>\n",
              "      <td>85.0</td>\n",
              "      <td>5.63</td>\n",
              "      <td>63.0</td>\n",
              "      <td>0.4</td>\n",
              "      <td>19326.0</td>\n",
              "      <td>18465.0</td>\n",
              "      <td>...</td>\n",
              "      <td>14.62</td>\n",
              "      <td>52.0</td>\n",
              "      <td>88.0</td>\n",
              "      <td>18.4</td>\n",
              "      <td>Gross domestic product per capita, current prices</td>\n",
              "      <td>U.S. dollars</td>\n",
              "      <td>Units</td>\n",
              "      <td>See notes for:  Gross domestic product, curren...</td>\n",
              "      <td>20732.482</td>\n",
              "      <td>2015.0</td>\n",
              "    </tr>\n",
              "    <tr>\n",
              "      <th>Spain</th>\n",
              "      <td>24.0</td>\n",
              "      <td>4.2</td>\n",
              "      <td>7.3</td>\n",
              "      <td>0.1</td>\n",
              "      <td>55.0</td>\n",
              "      <td>5.89</td>\n",
              "      <td>56.0</td>\n",
              "      <td>0.6</td>\n",
              "      <td>22477.0</td>\n",
              "      <td>24774.0</td>\n",
              "      <td>...</td>\n",
              "      <td>16.06</td>\n",
              "      <td>69.0</td>\n",
              "      <td>71.0</td>\n",
              "      <td>17.6</td>\n",
              "      <td>Gross domestic product per capita, current prices</td>\n",
              "      <td>U.S. dollars</td>\n",
              "      <td>Units</td>\n",
              "      <td>See notes for:  Gross domestic product, curren...</td>\n",
              "      <td>25864.721</td>\n",
              "      <td>2014.0</td>\n",
              "    </tr>\n",
              "    <tr>\n",
              "      <th>Korea</th>\n",
              "      <td>30.0</td>\n",
              "      <td>2.1</td>\n",
              "      <td>10.4</td>\n",
              "      <td>4.2</td>\n",
              "      <td>82.0</td>\n",
              "      <td>18.72</td>\n",
              "      <td>64.0</td>\n",
              "      <td>1.1</td>\n",
              "      <td>19510.0</td>\n",
              "      <td>29091.0</td>\n",
              "      <td>...</td>\n",
              "      <td>14.63</td>\n",
              "      <td>76.0</td>\n",
              "      <td>78.0</td>\n",
              "      <td>17.5</td>\n",
              "      <td>Gross domestic product per capita, current prices</td>\n",
              "      <td>U.S. dollars</td>\n",
              "      <td>Units</td>\n",
              "      <td>See notes for:  Gross domestic product, curren...</td>\n",
              "      <td>27195.197</td>\n",
              "      <td>2014.0</td>\n",
              "    </tr>\n",
              "    <tr>\n",
              "      <th>Italy</th>\n",
              "      <td>21.0</td>\n",
              "      <td>4.7</td>\n",
              "      <td>5.0</td>\n",
              "      <td>1.1</td>\n",
              "      <td>57.0</td>\n",
              "      <td>3.66</td>\n",
              "      <td>56.0</td>\n",
              "      <td>0.7</td>\n",
              "      <td>25166.0</td>\n",
              "      <td>54987.0</td>\n",
              "      <td>...</td>\n",
              "      <td>14.98</td>\n",
              "      <td>75.0</td>\n",
              "      <td>71.0</td>\n",
              "      <td>16.8</td>\n",
              "      <td>Gross domestic product per capita, current prices</td>\n",
              "      <td>U.S. dollars</td>\n",
              "      <td>Units</td>\n",
              "      <td>See notes for:  Gross domestic product, curren...</td>\n",
              "      <td>29866.581</td>\n",
              "      <td>2015.0</td>\n",
              "    </tr>\n",
              "    <tr>\n",
              "      <th>Japan</th>\n",
              "      <td>24.0</td>\n",
              "      <td>1.4</td>\n",
              "      <td>7.3</td>\n",
              "      <td>6.4</td>\n",
              "      <td>94.0</td>\n",
              "      <td>22.26</td>\n",
              "      <td>72.0</td>\n",
              "      <td>0.3</td>\n",
              "      <td>26111.0</td>\n",
              "      <td>86764.0</td>\n",
              "      <td>...</td>\n",
              "      <td>14.93</td>\n",
              "      <td>53.0</td>\n",
              "      <td>85.0</td>\n",
              "      <td>16.3</td>\n",
              "      <td>Gross domestic product per capita, current prices</td>\n",
              "      <td>U.S. dollars</td>\n",
              "      <td>Units</td>\n",
              "      <td>See notes for:  Gross domestic product, curren...</td>\n",
              "      <td>32485.545</td>\n",
              "      <td>2015.0</td>\n",
              "    </tr>\n",
              "    <tr>\n",
              "      <th>Israel</th>\n",
              "      <td>21.0</td>\n",
              "      <td>6.4</td>\n",
              "      <td>2.5</td>\n",
              "      <td>3.7</td>\n",
              "      <td>85.0</td>\n",
              "      <td>16.03</td>\n",
              "      <td>67.0</td>\n",
              "      <td>2.3</td>\n",
              "      <td>22104.0</td>\n",
              "      <td>52933.0</td>\n",
              "      <td>...</td>\n",
              "      <td>14.48</td>\n",
              "      <td>68.0</td>\n",
              "      <td>68.0</td>\n",
              "      <td>15.8</td>\n",
              "      <td>Gross domestic product per capita, current prices</td>\n",
              "      <td>U.S. dollars</td>\n",
              "      <td>Units</td>\n",
              "      <td>See notes for:  Gross domestic product, curren...</td>\n",
              "      <td>35343.336</td>\n",
              "      <td>2015.0</td>\n",
              "    </tr>\n",
              "    <tr>\n",
              "      <th>New Zealand</th>\n",
              "      <td>11.0</td>\n",
              "      <td>2.2</td>\n",
              "      <td>10.3</td>\n",
              "      <td>0.2</td>\n",
              "      <td>74.0</td>\n",
              "      <td>13.87</td>\n",
              "      <td>73.0</td>\n",
              "      <td>1.2</td>\n",
              "      <td>23815.0</td>\n",
              "      <td>28290.0</td>\n",
              "      <td>...</td>\n",
              "      <td>14.87</td>\n",
              "      <td>77.0</td>\n",
              "      <td>89.0</td>\n",
              "      <td>18.1</td>\n",
              "      <td>Gross domestic product per capita, current prices</td>\n",
              "      <td>U.S. dollars</td>\n",
              "      <td>Units</td>\n",
              "      <td>See notes for:  Gross domestic product, curren...</td>\n",
              "      <td>37044.891</td>\n",
              "      <td>2015.0</td>\n",
              "    </tr>\n",
              "    <tr>\n",
              "      <th>France</th>\n",
              "      <td>12.0</td>\n",
              "      <td>5.0</td>\n",
              "      <td>3.5</td>\n",
              "      <td>0.5</td>\n",
              "      <td>73.0</td>\n",
              "      <td>8.15</td>\n",
              "      <td>64.0</td>\n",
              "      <td>0.6</td>\n",
              "      <td>28799.0</td>\n",
              "      <td>48741.0</td>\n",
              "      <td>...</td>\n",
              "      <td>15.33</td>\n",
              "      <td>80.0</td>\n",
              "      <td>82.0</td>\n",
              "      <td>16.4</td>\n",
              "      <td>Gross domestic product per capita, current prices</td>\n",
              "      <td>U.S. dollars</td>\n",
              "      <td>Units</td>\n",
              "      <td>See notes for:  Gross domestic product, curren...</td>\n",
              "      <td>37675.006</td>\n",
              "      <td>2015.0</td>\n",
              "    </tr>\n",
              "    <tr>\n",
              "      <th>Belgium</th>\n",
              "      <td>21.0</td>\n",
              "      <td>6.6</td>\n",
              "      <td>4.5</td>\n",
              "      <td>2.0</td>\n",
              "      <td>72.0</td>\n",
              "      <td>4.57</td>\n",
              "      <td>62.0</td>\n",
              "      <td>1.1</td>\n",
              "      <td>28307.0</td>\n",
              "      <td>83876.0</td>\n",
              "      <td>...</td>\n",
              "      <td>15.71</td>\n",
              "      <td>89.0</td>\n",
              "      <td>87.0</td>\n",
              "      <td>18.9</td>\n",
              "      <td>Gross domestic product per capita, current prices</td>\n",
              "      <td>U.S. dollars</td>\n",
              "      <td>Units</td>\n",
              "      <td>See notes for:  Gross domestic product, curren...</td>\n",
              "      <td>40106.632</td>\n",
              "      <td>2014.0</td>\n",
              "    </tr>\n",
              "    <tr>\n",
              "      <th>Germany</th>\n",
              "      <td>16.0</td>\n",
              "      <td>3.6</td>\n",
              "      <td>4.5</td>\n",
              "      <td>0.1</td>\n",
              "      <td>86.0</td>\n",
              "      <td>5.25</td>\n",
              "      <td>73.0</td>\n",
              "      <td>0.5</td>\n",
              "      <td>31252.0</td>\n",
              "      <td>50394.0</td>\n",
              "      <td>...</td>\n",
              "      <td>15.31</td>\n",
              "      <td>72.0</td>\n",
              "      <td>95.0</td>\n",
              "      <td>18.2</td>\n",
              "      <td>Gross domestic product per capita, current prices</td>\n",
              "      <td>U.S. dollars</td>\n",
              "      <td>Units</td>\n",
              "      <td>See notes for:  Gross domestic product, curren...</td>\n",
              "      <td>40996.511</td>\n",
              "      <td>2014.0</td>\n",
              "    </tr>\n",
              "    <tr>\n",
              "      <th>Finland</th>\n",
              "      <td>15.0</td>\n",
              "      <td>2.4</td>\n",
              "      <td>9.0</td>\n",
              "      <td>0.6</td>\n",
              "      <td>85.0</td>\n",
              "      <td>3.58</td>\n",
              "      <td>69.0</td>\n",
              "      <td>1.4</td>\n",
              "      <td>27927.0</td>\n",
              "      <td>18761.0</td>\n",
              "      <td>...</td>\n",
              "      <td>14.89</td>\n",
              "      <td>69.0</td>\n",
              "      <td>94.0</td>\n",
              "      <td>19.7</td>\n",
              "      <td>Gross domestic product per capita, current prices</td>\n",
              "      <td>U.S. dollars</td>\n",
              "      <td>Units</td>\n",
              "      <td>See notes for:  Gross domestic product, curren...</td>\n",
              "      <td>41973.988</td>\n",
              "      <td>2014.0</td>\n",
              "    </tr>\n",
              "    <tr>\n",
              "      <th>Canada</th>\n",
              "      <td>15.0</td>\n",
              "      <td>1.3</td>\n",
              "      <td>10.5</td>\n",
              "      <td>0.2</td>\n",
              "      <td>89.0</td>\n",
              "      <td>3.94</td>\n",
              "      <td>72.0</td>\n",
              "      <td>1.5</td>\n",
              "      <td>29365.0</td>\n",
              "      <td>67913.0</td>\n",
              "      <td>...</td>\n",
              "      <td>14.25</td>\n",
              "      <td>61.0</td>\n",
              "      <td>91.0</td>\n",
              "      <td>17.2</td>\n",
              "      <td>Gross domestic product per capita, current prices</td>\n",
              "      <td>U.S. dollars</td>\n",
              "      <td>Units</td>\n",
              "      <td>See notes for:  Gross domestic product, curren...</td>\n",
              "      <td>43331.961</td>\n",
              "      <td>2015.0</td>\n",
              "    </tr>\n",
              "    <tr>\n",
              "      <th>Netherlands</th>\n",
              "      <td>30.0</td>\n",
              "      <td>4.9</td>\n",
              "      <td>6.1</td>\n",
              "      <td>0.0</td>\n",
              "      <td>73.0</td>\n",
              "      <td>0.45</td>\n",
              "      <td>74.0</td>\n",
              "      <td>0.9</td>\n",
              "      <td>27888.0</td>\n",
              "      <td>77961.0</td>\n",
              "      <td>...</td>\n",
              "      <td>15.44</td>\n",
              "      <td>75.0</td>\n",
              "      <td>92.0</td>\n",
              "      <td>18.7</td>\n",
              "      <td>Gross domestic product per capita, current prices</td>\n",
              "      <td>U.S. dollars</td>\n",
              "      <td>Units</td>\n",
              "      <td>See notes for:  Gross domestic product, curren...</td>\n",
              "      <td>43603.115</td>\n",
              "      <td>2014.0</td>\n",
              "    </tr>\n",
              "    <tr>\n",
              "      <th>Austria</th>\n",
              "      <td>27.0</td>\n",
              "      <td>3.4</td>\n",
              "      <td>7.1</td>\n",
              "      <td>1.0</td>\n",
              "      <td>83.0</td>\n",
              "      <td>7.61</td>\n",
              "      <td>72.0</td>\n",
              "      <td>0.4</td>\n",
              "      <td>31173.0</td>\n",
              "      <td>49887.0</td>\n",
              "      <td>...</td>\n",
              "      <td>14.46</td>\n",
              "      <td>75.0</td>\n",
              "      <td>94.0</td>\n",
              "      <td>17.0</td>\n",
              "      <td>Gross domestic product per capita, current prices</td>\n",
              "      <td>U.S. dollars</td>\n",
              "      <td>Units</td>\n",
              "      <td>See notes for:  Gross domestic product, curren...</td>\n",
              "      <td>43724.031</td>\n",
              "      <td>2015.0</td>\n",
              "    </tr>\n",
              "    <tr>\n",
              "      <th>United Kingdom</th>\n",
              "      <td>13.0</td>\n",
              "      <td>1.9</td>\n",
              "      <td>11.5</td>\n",
              "      <td>0.2</td>\n",
              "      <td>78.0</td>\n",
              "      <td>12.70</td>\n",
              "      <td>71.0</td>\n",
              "      <td>0.3</td>\n",
              "      <td>27029.0</td>\n",
              "      <td>60778.0</td>\n",
              "      <td>...</td>\n",
              "      <td>14.83</td>\n",
              "      <td>66.0</td>\n",
              "      <td>88.0</td>\n",
              "      <td>16.4</td>\n",
              "      <td>Gross domestic product per capita, current prices</td>\n",
              "      <td>U.S. dollars</td>\n",
              "      <td>Units</td>\n",
              "      <td>See notes for:  Gross domestic product, curren...</td>\n",
              "      <td>43770.688</td>\n",
              "      <td>2015.0</td>\n",
              "    </tr>\n",
              "    <tr>\n",
              "      <th>Sweden</th>\n",
              "      <td>10.0</td>\n",
              "      <td>5.1</td>\n",
              "      <td>10.9</td>\n",
              "      <td>0.0</td>\n",
              "      <td>88.0</td>\n",
              "      <td>1.13</td>\n",
              "      <td>74.0</td>\n",
              "      <td>0.7</td>\n",
              "      <td>29185.0</td>\n",
              "      <td>60328.0</td>\n",
              "      <td>...</td>\n",
              "      <td>15.11</td>\n",
              "      <td>86.0</td>\n",
              "      <td>95.0</td>\n",
              "      <td>19.3</td>\n",
              "      <td>Gross domestic product per capita, current prices</td>\n",
              "      <td>U.S. dollars</td>\n",
              "      <td>Units</td>\n",
              "      <td>See notes for:  Gross domestic product, curren...</td>\n",
              "      <td>49866.266</td>\n",
              "      <td>2014.0</td>\n",
              "    </tr>\n",
              "    <tr>\n",
              "      <th>Iceland</th>\n",
              "      <td>18.0</td>\n",
              "      <td>2.7</td>\n",
              "      <td>5.1</td>\n",
              "      <td>0.4</td>\n",
              "      <td>71.0</td>\n",
              "      <td>12.25</td>\n",
              "      <td>82.0</td>\n",
              "      <td>0.3</td>\n",
              "      <td>23965.0</td>\n",
              "      <td>43045.0</td>\n",
              "      <td>...</td>\n",
              "      <td>14.61</td>\n",
              "      <td>81.0</td>\n",
              "      <td>97.0</td>\n",
              "      <td>19.8</td>\n",
              "      <td>Gross domestic product per capita, current prices</td>\n",
              "      <td>U.S. dollars</td>\n",
              "      <td>Units</td>\n",
              "      <td>See notes for:  Gross domestic product, curren...</td>\n",
              "      <td>50854.583</td>\n",
              "      <td>2014.0</td>\n",
              "    </tr>\n",
              "    <tr>\n",
              "      <th>Australia</th>\n",
              "      <td>13.0</td>\n",
              "      <td>2.1</td>\n",
              "      <td>10.5</td>\n",
              "      <td>1.1</td>\n",
              "      <td>76.0</td>\n",
              "      <td>14.02</td>\n",
              "      <td>72.0</td>\n",
              "      <td>0.8</td>\n",
              "      <td>31588.0</td>\n",
              "      <td>47657.0</td>\n",
              "      <td>...</td>\n",
              "      <td>14.41</td>\n",
              "      <td>93.0</td>\n",
              "      <td>91.0</td>\n",
              "      <td>19.4</td>\n",
              "      <td>Gross domestic product per capita, current prices</td>\n",
              "      <td>U.S. dollars</td>\n",
              "      <td>Units</td>\n",
              "      <td>See notes for:  Gross domestic product, curren...</td>\n",
              "      <td>50961.865</td>\n",
              "      <td>2014.0</td>\n",
              "    </tr>\n",
              "    <tr>\n",
              "      <th>Ireland</th>\n",
              "      <td>13.0</td>\n",
              "      <td>2.6</td>\n",
              "      <td>9.0</td>\n",
              "      <td>0.2</td>\n",
              "      <td>75.0</td>\n",
              "      <td>4.20</td>\n",
              "      <td>60.0</td>\n",
              "      <td>0.8</td>\n",
              "      <td>23917.0</td>\n",
              "      <td>31580.0</td>\n",
              "      <td>...</td>\n",
              "      <td>15.19</td>\n",
              "      <td>70.0</td>\n",
              "      <td>80.0</td>\n",
              "      <td>17.6</td>\n",
              "      <td>Gross domestic product per capita, current prices</td>\n",
              "      <td>U.S. dollars</td>\n",
              "      <td>Units</td>\n",
              "      <td>See notes for:  Gross domestic product, curren...</td>\n",
              "      <td>51350.744</td>\n",
              "      <td>2014.0</td>\n",
              "    </tr>\n",
              "    <tr>\n",
              "      <th>Denmark</th>\n",
              "      <td>15.0</td>\n",
              "      <td>3.9</td>\n",
              "      <td>7.0</td>\n",
              "      <td>0.9</td>\n",
              "      <td>78.0</td>\n",
              "      <td>2.03</td>\n",
              "      <td>73.0</td>\n",
              "      <td>0.3</td>\n",
              "      <td>26491.0</td>\n",
              "      <td>44488.0</td>\n",
              "      <td>...</td>\n",
              "      <td>16.06</td>\n",
              "      <td>88.0</td>\n",
              "      <td>94.0</td>\n",
              "      <td>19.4</td>\n",
              "      <td>Gross domestic product per capita, current prices</td>\n",
              "      <td>U.S. dollars</td>\n",
              "      <td>Units</td>\n",
              "      <td>See notes for:  Gross domestic product, curren...</td>\n",
              "      <td>52114.165</td>\n",
              "      <td>2015.0</td>\n",
              "    </tr>\n",
              "    <tr>\n",
              "      <th>United States</th>\n",
              "      <td>18.0</td>\n",
              "      <td>1.5</td>\n",
              "      <td>8.3</td>\n",
              "      <td>0.1</td>\n",
              "      <td>89.0</td>\n",
              "      <td>11.30</td>\n",
              "      <td>67.0</td>\n",
              "      <td>5.2</td>\n",
              "      <td>41355.0</td>\n",
              "      <td>145769.0</td>\n",
              "      <td>...</td>\n",
              "      <td>14.27</td>\n",
              "      <td>68.0</td>\n",
              "      <td>85.0</td>\n",
              "      <td>17.2</td>\n",
              "      <td>Gross domestic product per capita, current prices</td>\n",
              "      <td>U.S. dollars</td>\n",
              "      <td>Units</td>\n",
              "      <td>See notes for:  Gross domestic product, curren...</td>\n",
              "      <td>55805.204</td>\n",
              "      <td>2015.0</td>\n",
              "    </tr>\n",
              "    <tr>\n",
              "      <th>Norway</th>\n",
              "      <td>16.0</td>\n",
              "      <td>3.3</td>\n",
              "      <td>8.1</td>\n",
              "      <td>0.3</td>\n",
              "      <td>82.0</td>\n",
              "      <td>2.82</td>\n",
              "      <td>75.0</td>\n",
              "      <td>0.6</td>\n",
              "      <td>33492.0</td>\n",
              "      <td>8797.0</td>\n",
              "      <td>...</td>\n",
              "      <td>15.56</td>\n",
              "      <td>78.0</td>\n",
              "      <td>94.0</td>\n",
              "      <td>17.9</td>\n",
              "      <td>Gross domestic product per capita, current prices</td>\n",
              "      <td>U.S. dollars</td>\n",
              "      <td>Units</td>\n",
              "      <td>See notes for:  Gross domestic product, curren...</td>\n",
              "      <td>74822.106</td>\n",
              "      <td>2015.0</td>\n",
              "    </tr>\n",
              "    <tr>\n",
              "      <th>Switzerland</th>\n",
              "      <td>20.0</td>\n",
              "      <td>4.2</td>\n",
              "      <td>8.4</td>\n",
              "      <td>0.0</td>\n",
              "      <td>86.0</td>\n",
              "      <td>6.72</td>\n",
              "      <td>80.0</td>\n",
              "      <td>0.5</td>\n",
              "      <td>33491.0</td>\n",
              "      <td>108823.0</td>\n",
              "      <td>...</td>\n",
              "      <td>14.98</td>\n",
              "      <td>49.0</td>\n",
              "      <td>96.0</td>\n",
              "      <td>17.3</td>\n",
              "      <td>Gross domestic product per capita, current prices</td>\n",
              "      <td>U.S. dollars</td>\n",
              "      <td>Units</td>\n",
              "      <td>See notes for:  Gross domestic product, curren...</td>\n",
              "      <td>80675.308</td>\n",
              "      <td>2015.0</td>\n",
              "    </tr>\n",
              "    <tr>\n",
              "      <th>Luxembourg</th>\n",
              "      <td>12.0</td>\n",
              "      <td>4.3</td>\n",
              "      <td>6.0</td>\n",
              "      <td>0.1</td>\n",
              "      <td>78.0</td>\n",
              "      <td>3.47</td>\n",
              "      <td>66.0</td>\n",
              "      <td>0.4</td>\n",
              "      <td>38951.0</td>\n",
              "      <td>61765.0</td>\n",
              "      <td>...</td>\n",
              "      <td>15.12</td>\n",
              "      <td>91.0</td>\n",
              "      <td>86.0</td>\n",
              "      <td>15.1</td>\n",
              "      <td>Gross domestic product per capita, current prices</td>\n",
              "      <td>U.S. dollars</td>\n",
              "      <td>Units</td>\n",
              "      <td>See notes for:  Gross domestic product, curren...</td>\n",
              "      <td>101994.093</td>\n",
              "      <td>2014.0</td>\n",
              "    </tr>\n",
              "  </tbody>\n",
              "</table>\n",
              "<p>36 rows × 30 columns</p>\n",
              "</div>"
            ],
            "text/plain": [
              "                 Air pollution  Assault rate  Consultation on rule-making  \\\n",
              "Country                                                                     \n",
              "Brazil                    18.0           7.9                          4.0   \n",
              "Mexico                    30.0          12.8                          9.0   \n",
              "Russia                    15.0           3.8                          2.5   \n",
              "Turkey                    35.0           5.0                          5.5   \n",
              "Hungary                   15.0           3.6                          7.9   \n",
              "Poland                    33.0           1.4                         10.8   \n",
              "Chile                     46.0           6.9                          2.0   \n",
              "Slovak Republic           13.0           3.0                          6.6   \n",
              "Czech Republic            16.0           2.8                          6.8   \n",
              "Estonia                    9.0           5.5                          3.3   \n",
              "Greece                    27.0           3.7                          6.5   \n",
              "Portugal                  18.0           5.7                          6.5   \n",
              "Slovenia                  26.0           3.9                         10.3   \n",
              "Spain                     24.0           4.2                          7.3   \n",
              "Korea                     30.0           2.1                         10.4   \n",
              "Italy                     21.0           4.7                          5.0   \n",
              "Japan                     24.0           1.4                          7.3   \n",
              "Israel                    21.0           6.4                          2.5   \n",
              "New Zealand               11.0           2.2                         10.3   \n",
              "France                    12.0           5.0                          3.5   \n",
              "Belgium                   21.0           6.6                          4.5   \n",
              "Germany                   16.0           3.6                          4.5   \n",
              "Finland                   15.0           2.4                          9.0   \n",
              "Canada                    15.0           1.3                         10.5   \n",
              "Netherlands               30.0           4.9                          6.1   \n",
              "Austria                   27.0           3.4                          7.1   \n",
              "United Kingdom            13.0           1.9                         11.5   \n",
              "Sweden                    10.0           5.1                         10.9   \n",
              "Iceland                   18.0           2.7                          5.1   \n",
              "Australia                 13.0           2.1                         10.5   \n",
              "Ireland                   13.0           2.6                          9.0   \n",
              "Denmark                   15.0           3.9                          7.0   \n",
              "United States             18.0           1.5                          8.3   \n",
              "Norway                    16.0           3.3                          8.1   \n",
              "Switzerland               20.0           4.2                          8.4   \n",
              "Luxembourg                12.0           4.3                          6.0   \n",
              "\n",
              "                 Dwellings without basic facilities  Educational attainment  \\\n",
              "Country                                                                       \n",
              "Brazil                                          6.7                    45.0   \n",
              "Mexico                                          4.2                    37.0   \n",
              "Russia                                         15.1                    94.0   \n",
              "Turkey                                         12.7                    34.0   \n",
              "Hungary                                         4.8                    82.0   \n",
              "Poland                                          3.2                    90.0   \n",
              "Chile                                           9.4                    57.0   \n",
              "Slovak Republic                                 0.6                    92.0   \n",
              "Czech Republic                                  0.9                    92.0   \n",
              "Estonia                                         8.1                    90.0   \n",
              "Greece                                          0.7                    68.0   \n",
              "Portugal                                        0.9                    38.0   \n",
              "Slovenia                                        0.5                    85.0   \n",
              "Spain                                           0.1                    55.0   \n",
              "Korea                                           4.2                    82.0   \n",
              "Italy                                           1.1                    57.0   \n",
              "Japan                                           6.4                    94.0   \n",
              "Israel                                          3.7                    85.0   \n",
              "New Zealand                                     0.2                    74.0   \n",
              "France                                          0.5                    73.0   \n",
              "Belgium                                         2.0                    72.0   \n",
              "Germany                                         0.1                    86.0   \n",
              "Finland                                         0.6                    85.0   \n",
              "Canada                                          0.2                    89.0   \n",
              "Netherlands                                     0.0                    73.0   \n",
              "Austria                                         1.0                    83.0   \n",
              "United Kingdom                                  0.2                    78.0   \n",
              "Sweden                                          0.0                    88.0   \n",
              "Iceland                                         0.4                    71.0   \n",
              "Australia                                       1.1                    76.0   \n",
              "Ireland                                         0.2                    75.0   \n",
              "Denmark                                         0.9                    78.0   \n",
              "United States                                   0.1                    89.0   \n",
              "Norway                                          0.3                    82.0   \n",
              "Switzerland                                     0.0                    86.0   \n",
              "Luxembourg                                      0.1                    78.0   \n",
              "\n",
              "                 Employees working very long hours  Employment rate  \\\n",
              "Country                                                               \n",
              "Brazil                                       10.41             67.0   \n",
              "Mexico                                       28.83             61.0   \n",
              "Russia                                        0.16             69.0   \n",
              "Turkey                                       40.86             50.0   \n",
              "Hungary                                       3.19             58.0   \n",
              "Poland                                        7.41             60.0   \n",
              "Chile                                        15.42             62.0   \n",
              "Slovak Republic                               7.02             60.0   \n",
              "Czech Republic                                6.98             68.0   \n",
              "Estonia                                       3.30             68.0   \n",
              "Greece                                        6.16             49.0   \n",
              "Portugal                                      9.62             61.0   \n",
              "Slovenia                                      5.63             63.0   \n",
              "Spain                                         5.89             56.0   \n",
              "Korea                                        18.72             64.0   \n",
              "Italy                                         3.66             56.0   \n",
              "Japan                                        22.26             72.0   \n",
              "Israel                                       16.03             67.0   \n",
              "New Zealand                                  13.87             73.0   \n",
              "France                                        8.15             64.0   \n",
              "Belgium                                       4.57             62.0   \n",
              "Germany                                       5.25             73.0   \n",
              "Finland                                       3.58             69.0   \n",
              "Canada                                        3.94             72.0   \n",
              "Netherlands                                   0.45             74.0   \n",
              "Austria                                       7.61             72.0   \n",
              "United Kingdom                               12.70             71.0   \n",
              "Sweden                                        1.13             74.0   \n",
              "Iceland                                      12.25             82.0   \n",
              "Australia                                    14.02             72.0   \n",
              "Ireland                                       4.20             60.0   \n",
              "Denmark                                       2.03             73.0   \n",
              "United States                                11.30             67.0   \n",
              "Norway                                        2.82             75.0   \n",
              "Switzerland                                   6.72             80.0   \n",
              "Luxembourg                                    3.47             66.0   \n",
              "\n",
              "                 Homicide rate  Household net adjusted disposable income  \\\n",
              "Country                                                                    \n",
              "Brazil                    25.5                                   11664.0   \n",
              "Mexico                    23.4                                   13085.0   \n",
              "Russia                    12.8                                   19292.0   \n",
              "Turkey                     1.2                                   14095.0   \n",
              "Hungary                    1.3                                   15442.0   \n",
              "Poland                     0.9                                   17852.0   \n",
              "Chile                      4.4                                   14533.0   \n",
              "Slovak Republic            1.2                                   17503.0   \n",
              "Czech Republic             0.8                                   18404.0   \n",
              "Estonia                    4.8                                   15167.0   \n",
              "Greece                     1.6                                   18575.0   \n",
              "Portugal                   1.1                                   20086.0   \n",
              "Slovenia                   0.4                                   19326.0   \n",
              "Spain                      0.6                                   22477.0   \n",
              "Korea                      1.1                                   19510.0   \n",
              "Italy                      0.7                                   25166.0   \n",
              "Japan                      0.3                                   26111.0   \n",
              "Israel                     2.3                                   22104.0   \n",
              "New Zealand                1.2                                   23815.0   \n",
              "France                     0.6                                   28799.0   \n",
              "Belgium                    1.1                                   28307.0   \n",
              "Germany                    0.5                                   31252.0   \n",
              "Finland                    1.4                                   27927.0   \n",
              "Canada                     1.5                                   29365.0   \n",
              "Netherlands                0.9                                   27888.0   \n",
              "Austria                    0.4                                   31173.0   \n",
              "United Kingdom             0.3                                   27029.0   \n",
              "Sweden                     0.7                                   29185.0   \n",
              "Iceland                    0.3                                   23965.0   \n",
              "Australia                  0.8                                   31588.0   \n",
              "Ireland                    0.8                                   23917.0   \n",
              "Denmark                    0.3                                   26491.0   \n",
              "United States              5.2                                   41355.0   \n",
              "Norway                     0.6                                   33492.0   \n",
              "Switzerland                0.5                                   33491.0   \n",
              "Luxembourg                 0.4                                   38951.0   \n",
              "\n",
              "                 Household net financial wealth          ...            \\\n",
              "Country                                                  ...             \n",
              "Brazil                                   6844.0          ...             \n",
              "Mexico                                   9056.0          ...             \n",
              "Russia                                   3412.0          ...             \n",
              "Turkey                                   3251.0          ...             \n",
              "Hungary                                 13277.0          ...             \n",
              "Poland                                  10919.0          ...             \n",
              "Chile                                   17733.0          ...             \n",
              "Slovak Republic                          8663.0          ...             \n",
              "Czech Republic                          17299.0          ...             \n",
              "Estonia                                  7680.0          ...             \n",
              "Greece                                  14579.0          ...             \n",
              "Portugal                                31245.0          ...             \n",
              "Slovenia                                18465.0          ...             \n",
              "Spain                                   24774.0          ...             \n",
              "Korea                                   29091.0          ...             \n",
              "Italy                                   54987.0          ...             \n",
              "Japan                                   86764.0          ...             \n",
              "Israel                                  52933.0          ...             \n",
              "New Zealand                             28290.0          ...             \n",
              "France                                  48741.0          ...             \n",
              "Belgium                                 83876.0          ...             \n",
              "Germany                                 50394.0          ...             \n",
              "Finland                                 18761.0          ...             \n",
              "Canada                                  67913.0          ...             \n",
              "Netherlands                             77961.0          ...             \n",
              "Austria                                 49887.0          ...             \n",
              "United Kingdom                          60778.0          ...             \n",
              "Sweden                                  60328.0          ...             \n",
              "Iceland                                 43045.0          ...             \n",
              "Australia                               47657.0          ...             \n",
              "Ireland                                 31580.0          ...             \n",
              "Denmark                                 44488.0          ...             \n",
              "United States                          145769.0          ...             \n",
              "Norway                                   8797.0          ...             \n",
              "Switzerland                            108823.0          ...             \n",
              "Luxembourg                              61765.0          ...             \n",
              "\n",
              "                 Time devoted to leisure and personal care  Voter turnout  \\\n",
              "Country                                                                     \n",
              "Brazil                                               14.97           79.0   \n",
              "Mexico                                               13.89           63.0   \n",
              "Russia                                               14.97           65.0   \n",
              "Turkey                                               13.42           88.0   \n",
              "Hungary                                              15.04           62.0   \n",
              "Poland                                               14.20           55.0   \n",
              "Chile                                                14.41           49.0   \n",
              "Slovak Republic                                      14.99           59.0   \n",
              "Czech Republic                                       14.98           59.0   \n",
              "Estonia                                              14.90           64.0   \n",
              "Greece                                               14.91           64.0   \n",
              "Portugal                                             14.95           58.0   \n",
              "Slovenia                                             14.62           52.0   \n",
              "Spain                                                16.06           69.0   \n",
              "Korea                                                14.63           76.0   \n",
              "Italy                                                14.98           75.0   \n",
              "Japan                                                14.93           53.0   \n",
              "Israel                                               14.48           68.0   \n",
              "New Zealand                                          14.87           77.0   \n",
              "France                                               15.33           80.0   \n",
              "Belgium                                              15.71           89.0   \n",
              "Germany                                              15.31           72.0   \n",
              "Finland                                              14.89           69.0   \n",
              "Canada                                               14.25           61.0   \n",
              "Netherlands                                          15.44           75.0   \n",
              "Austria                                              14.46           75.0   \n",
              "United Kingdom                                       14.83           66.0   \n",
              "Sweden                                               15.11           86.0   \n",
              "Iceland                                              14.61           81.0   \n",
              "Australia                                            14.41           93.0   \n",
              "Ireland                                              15.19           70.0   \n",
              "Denmark                                              16.06           88.0   \n",
              "United States                                        14.27           68.0   \n",
              "Norway                                               15.56           78.0   \n",
              "Switzerland                                          14.98           49.0   \n",
              "Luxembourg                                           15.12           91.0   \n",
              "\n",
              "                 Water quality  Years in education  \\\n",
              "Country                                              \n",
              "Brazil                    72.0                16.3   \n",
              "Mexico                    67.0                14.4   \n",
              "Russia                    56.0                16.0   \n",
              "Turkey                    62.0                16.4   \n",
              "Hungary                   77.0                17.6   \n",
              "Poland                    79.0                18.4   \n",
              "Chile                     73.0                16.5   \n",
              "Slovak Republic           81.0                16.3   \n",
              "Czech Republic            85.0                18.1   \n",
              "Estonia                   79.0                17.5   \n",
              "Greece                    69.0                18.6   \n",
              "Portugal                  86.0                17.6   \n",
              "Slovenia                  88.0                18.4   \n",
              "Spain                     71.0                17.6   \n",
              "Korea                     78.0                17.5   \n",
              "Italy                     71.0                16.8   \n",
              "Japan                     85.0                16.3   \n",
              "Israel                    68.0                15.8   \n",
              "New Zealand               89.0                18.1   \n",
              "France                    82.0                16.4   \n",
              "Belgium                   87.0                18.9   \n",
              "Germany                   95.0                18.2   \n",
              "Finland                   94.0                19.7   \n",
              "Canada                    91.0                17.2   \n",
              "Netherlands               92.0                18.7   \n",
              "Austria                   94.0                17.0   \n",
              "United Kingdom            88.0                16.4   \n",
              "Sweden                    95.0                19.3   \n",
              "Iceland                   97.0                19.8   \n",
              "Australia                 91.0                19.4   \n",
              "Ireland                   80.0                17.6   \n",
              "Denmark                   94.0                19.4   \n",
              "United States             85.0                17.2   \n",
              "Norway                    94.0                17.9   \n",
              "Switzerland               96.0                17.3   \n",
              "Luxembourg                86.0                15.1   \n",
              "\n",
              "                                                Subject Descriptor  \\\n",
              "Country                                                              \n",
              "Brazil           Gross domestic product per capita, current prices   \n",
              "Mexico           Gross domestic product per capita, current prices   \n",
              "Russia           Gross domestic product per capita, current prices   \n",
              "Turkey           Gross domestic product per capita, current prices   \n",
              "Hungary          Gross domestic product per capita, current prices   \n",
              "Poland           Gross domestic product per capita, current prices   \n",
              "Chile            Gross domestic product per capita, current prices   \n",
              "Slovak Republic  Gross domestic product per capita, current prices   \n",
              "Czech Republic   Gross domestic product per capita, current prices   \n",
              "Estonia          Gross domestic product per capita, current prices   \n",
              "Greece           Gross domestic product per capita, current prices   \n",
              "Portugal         Gross domestic product per capita, current prices   \n",
              "Slovenia         Gross domestic product per capita, current prices   \n",
              "Spain            Gross domestic product per capita, current prices   \n",
              "Korea            Gross domestic product per capita, current prices   \n",
              "Italy            Gross domestic product per capita, current prices   \n",
              "Japan            Gross domestic product per capita, current prices   \n",
              "Israel           Gross domestic product per capita, current prices   \n",
              "New Zealand      Gross domestic product per capita, current prices   \n",
              "France           Gross domestic product per capita, current prices   \n",
              "Belgium          Gross domestic product per capita, current prices   \n",
              "Germany          Gross domestic product per capita, current prices   \n",
              "Finland          Gross domestic product per capita, current prices   \n",
              "Canada           Gross domestic product per capita, current prices   \n",
              "Netherlands      Gross domestic product per capita, current prices   \n",
              "Austria          Gross domestic product per capita, current prices   \n",
              "United Kingdom   Gross domestic product per capita, current prices   \n",
              "Sweden           Gross domestic product per capita, current prices   \n",
              "Iceland          Gross domestic product per capita, current prices   \n",
              "Australia        Gross domestic product per capita, current prices   \n",
              "Ireland          Gross domestic product per capita, current prices   \n",
              "Denmark          Gross domestic product per capita, current prices   \n",
              "United States    Gross domestic product per capita, current prices   \n",
              "Norway           Gross domestic product per capita, current prices   \n",
              "Switzerland      Gross domestic product per capita, current prices   \n",
              "Luxembourg       Gross domestic product per capita, current prices   \n",
              "\n",
              "                        Units  Scale  \\\n",
              "Country                                \n",
              "Brazil           U.S. dollars  Units   \n",
              "Mexico           U.S. dollars  Units   \n",
              "Russia           U.S. dollars  Units   \n",
              "Turkey           U.S. dollars  Units   \n",
              "Hungary          U.S. dollars  Units   \n",
              "Poland           U.S. dollars  Units   \n",
              "Chile            U.S. dollars  Units   \n",
              "Slovak Republic  U.S. dollars  Units   \n",
              "Czech Republic   U.S. dollars  Units   \n",
              "Estonia          U.S. dollars  Units   \n",
              "Greece           U.S. dollars  Units   \n",
              "Portugal         U.S. dollars  Units   \n",
              "Slovenia         U.S. dollars  Units   \n",
              "Spain            U.S. dollars  Units   \n",
              "Korea            U.S. dollars  Units   \n",
              "Italy            U.S. dollars  Units   \n",
              "Japan            U.S. dollars  Units   \n",
              "Israel           U.S. dollars  Units   \n",
              "New Zealand      U.S. dollars  Units   \n",
              "France           U.S. dollars  Units   \n",
              "Belgium          U.S. dollars  Units   \n",
              "Germany          U.S. dollars  Units   \n",
              "Finland          U.S. dollars  Units   \n",
              "Canada           U.S. dollars  Units   \n",
              "Netherlands      U.S. dollars  Units   \n",
              "Austria          U.S. dollars  Units   \n",
              "United Kingdom   U.S. dollars  Units   \n",
              "Sweden           U.S. dollars  Units   \n",
              "Iceland          U.S. dollars  Units   \n",
              "Australia        U.S. dollars  Units   \n",
              "Ireland          U.S. dollars  Units   \n",
              "Denmark          U.S. dollars  Units   \n",
              "United States    U.S. dollars  Units   \n",
              "Norway           U.S. dollars  Units   \n",
              "Switzerland      U.S. dollars  Units   \n",
              "Luxembourg       U.S. dollars  Units   \n",
              "\n",
              "                                     Country/Series-specific Notes  \\\n",
              "Country                                                              \n",
              "Brazil           See notes for:  Gross domestic product, curren...   \n",
              "Mexico           See notes for:  Gross domestic product, curren...   \n",
              "Russia           See notes for:  Gross domestic product, curren...   \n",
              "Turkey           See notes for:  Gross domestic product, curren...   \n",
              "Hungary          See notes for:  Gross domestic product, curren...   \n",
              "Poland           See notes for:  Gross domestic product, curren...   \n",
              "Chile            See notes for:  Gross domestic product, curren...   \n",
              "Slovak Republic  See notes for:  Gross domestic product, curren...   \n",
              "Czech Republic   See notes for:  Gross domestic product, curren...   \n",
              "Estonia          See notes for:  Gross domestic product, curren...   \n",
              "Greece           See notes for:  Gross domestic product, curren...   \n",
              "Portugal         See notes for:  Gross domestic product, curren...   \n",
              "Slovenia         See notes for:  Gross domestic product, curren...   \n",
              "Spain            See notes for:  Gross domestic product, curren...   \n",
              "Korea            See notes for:  Gross domestic product, curren...   \n",
              "Italy            See notes for:  Gross domestic product, curren...   \n",
              "Japan            See notes for:  Gross domestic product, curren...   \n",
              "Israel           See notes for:  Gross domestic product, curren...   \n",
              "New Zealand      See notes for:  Gross domestic product, curren...   \n",
              "France           See notes for:  Gross domestic product, curren...   \n",
              "Belgium          See notes for:  Gross domestic product, curren...   \n",
              "Germany          See notes for:  Gross domestic product, curren...   \n",
              "Finland          See notes for:  Gross domestic product, curren...   \n",
              "Canada           See notes for:  Gross domestic product, curren...   \n",
              "Netherlands      See notes for:  Gross domestic product, curren...   \n",
              "Austria          See notes for:  Gross domestic product, curren...   \n",
              "United Kingdom   See notes for:  Gross domestic product, curren...   \n",
              "Sweden           See notes for:  Gross domestic product, curren...   \n",
              "Iceland          See notes for:  Gross domestic product, curren...   \n",
              "Australia        See notes for:  Gross domestic product, curren...   \n",
              "Ireland          See notes for:  Gross domestic product, curren...   \n",
              "Denmark          See notes for:  Gross domestic product, curren...   \n",
              "United States    See notes for:  Gross domestic product, curren...   \n",
              "Norway           See notes for:  Gross domestic product, curren...   \n",
              "Switzerland      See notes for:  Gross domestic product, curren...   \n",
              "Luxembourg       See notes for:  Gross domestic product, curren...   \n",
              "\n",
              "                 GDP per capita  Estimates Start After  \n",
              "Country                                                 \n",
              "Brazil                 8669.998                 2014.0  \n",
              "Mexico                 9009.280                 2015.0  \n",
              "Russia                 9054.914                 2015.0  \n",
              "Turkey                 9437.372                 2013.0  \n",
              "Hungary               12239.894                 2015.0  \n",
              "Poland                12495.334                 2014.0  \n",
              "Chile                 13340.905                 2014.0  \n",
              "Slovak Republic       15991.736                 2015.0  \n",
              "Czech Republic        17256.918                 2015.0  \n",
              "Estonia               17288.083                 2014.0  \n",
              "Greece                18064.288                 2014.0  \n",
              "Portugal              19121.592                 2014.0  \n",
              "Slovenia              20732.482                 2015.0  \n",
              "Spain                 25864.721                 2014.0  \n",
              "Korea                 27195.197                 2014.0  \n",
              "Italy                 29866.581                 2015.0  \n",
              "Japan                 32485.545                 2015.0  \n",
              "Israel                35343.336                 2015.0  \n",
              "New Zealand           37044.891                 2015.0  \n",
              "France                37675.006                 2015.0  \n",
              "Belgium               40106.632                 2014.0  \n",
              "Germany               40996.511                 2014.0  \n",
              "Finland               41973.988                 2014.0  \n",
              "Canada                43331.961                 2015.0  \n",
              "Netherlands           43603.115                 2014.0  \n",
              "Austria               43724.031                 2015.0  \n",
              "United Kingdom        43770.688                 2015.0  \n",
              "Sweden                49866.266                 2014.0  \n",
              "Iceland               50854.583                 2014.0  \n",
              "Australia             50961.865                 2014.0  \n",
              "Ireland               51350.744                 2014.0  \n",
              "Denmark               52114.165                 2015.0  \n",
              "United States         55805.204                 2015.0  \n",
              "Norway                74822.106                 2015.0  \n",
              "Switzerland           80675.308                 2015.0  \n",
              "Luxembourg           101994.093                 2014.0  \n",
              "\n",
              "[36 rows x 30 columns]"
            ]
          },
          "metadata": {
            "tags": []
          },
          "execution_count": 129
        }
      ]
    },
    {
      "metadata": {
        "id": "32xTEW36VX-m",
        "colab_type": "code",
        "outputId": "ef64e43e-7650-40ea-f20c-7f50f6a70b79",
        "colab": {
          "base_uri": "https://localhost:8080/",
          "height": 68
        }
      },
      "cell_type": "code",
      "source": [
        "full_country_stats[[\"GDP per capita\", 'Life satisfaction']].loc[\"United States\"]"
      ],
      "execution_count": 130,
      "outputs": [
        {
          "output_type": "execute_result",
          "data": {
            "text/plain": [
              "GDP per capita       55805.204\n",
              "Life satisfaction        7.200\n",
              "Name: United States, dtype: float64"
            ]
          },
          "metadata": {
            "tags": []
          },
          "execution_count": 130
        }
      ]
    },
    {
      "metadata": {
        "id": "RYTkdwZsVb6d",
        "colab_type": "code",
        "colab": {}
      },
      "cell_type": "code",
      "source": [
        "\n",
        "remove_indices = [0, 1, 6, 8, 33, 34, 35]\n",
        "keep_indices = list(set(range(36)) - set(remove_indices))\n",
        "\n",
        "sample_data = full_country_stats[[\"GDP per capita\", 'Life satisfaction']].iloc[keep_indices]\n",
        "missing_data = full_country_stats[[\"GDP per capita\", 'Life satisfaction']].iloc[remove_indices]"
      ],
      "execution_count": 0,
      "outputs": []
    },
    {
      "metadata": {
        "id": "gKwpApgaVe2y",
        "colab_type": "code",
        "outputId": "d6d46025-52ae-4407-e032-597e452e3f44",
        "colab": {
          "base_uri": "https://localhost:8080/",
          "height": 272
        }
      },
      "cell_type": "code",
      "source": [
        "sample_data.plot(kind='scatter', x=\"GDP per capita\", y='Life satisfaction', figsize=(5,3))\n",
        "plt.axis([0, 60000, 0, 10])\n",
        "position_text = {\n",
        "    \"Hungary\": (5000, 1),\n",
        "    \"Korea\": (18000, 1.7),\n",
        "    \"France\": (29000, 2.4),\n",
        "    \"Australia\": (40000, 3.0),\n",
        "    \"United States\": (52000, 3.8),\n",
        "}\n",
        "for country, pos_text in position_text.items():\n",
        "    pos_data_x, pos_data_y = sample_data.loc[country]\n",
        "    country = \"U.S.\" if country == \"United States\" else country\n",
        "    plt.annotate(country, xy=(pos_data_x, pos_data_y), xytext=pos_text,\n",
        "            arrowprops=dict(facecolor='black', width=0.5, shrink=0.1, headwidth=5))\n",
        "    plt.plot(pos_data_x, pos_data_y, \"ro\")\n",
        "#save_fig('money_happy_scatterplot')\n",
        "plt.show()"
      ],
      "execution_count": 132,
      "outputs": [
        {
          "output_type": "stream",
          "text": [
            "'c' argument looks like a single numeric RGB or RGBA sequence, which should be avoided as value-mapping will have precedence in case its length matches with 'x' & 'y'.  Please use a 2-D array with a single row if you really want to specify the same RGB or RGBA value for all points.\n"
          ],
          "name": "stderr"
        },
        {
          "output_type": "display_data",
          "data": {
            "image/png": "[encoded data removed]",
            "text/plain": [
              "<Figure size 360x216 with 1 Axes>"
            ]
          },
          "metadata": {
            "tags": []
          }
        }
      ]
    },
    {
      "metadata": {
        "id": "QDhL5WrrWPEf",
        "colab_type": "code",
        "colab": {}
      },
      "cell_type": "code",
      "source": [
        "#sample_data.to_csv(os.path.join(\"datasets\", \"lifesat\", \"lifesat.csv\"))"
      ],
      "execution_count": 0,
      "outputs": []
    },
    {
      "metadata": {
        "id": "U1GEXJYtWlcr",
        "colab_type": "code",
        "outputId": "f423eb0f-ad6b-4519-b957-a6de162648f4",
        "colab": {
          "base_uri": "https://localhost:8080/",
          "height": 235
        }
      },
      "cell_type": "code",
      "source": [
        "sample_data.loc[list(position_text.keys())]"
      ],
      "execution_count": 134,
      "outputs": [
        {
          "output_type": "execute_result",
          "data": {
            "text/html": [
              "<div>\n",
              "<style scoped>\n",
              "    .dataframe tbody tr th:only-of-type {\n",
              "        vertical-align: middle;\n",
              "    }\n",
              "\n",
              "    .dataframe tbody tr th {\n",
              "        vertical-align: top;\n",
              "    }\n",
              "\n",
              "    .dataframe thead th {\n",
              "        text-align: right;\n",
              "    }\n",
              "</style>\n",
              "<table border=\"1\" class=\"dataframe\">\n",
              "  <thead>\n",
              "    <tr style=\"text-align: right;\">\n",
              "      <th></th>\n",
              "      <th>GDP per capita</th>\n",
              "      <th>Life satisfaction</th>\n",
              "    </tr>\n",
              "    <tr>\n",
              "      <th>Country</th>\n",
              "      <th></th>\n",
              "      <th></th>\n",
              "    </tr>\n",
              "  </thead>\n",
              "  <tbody>\n",
              "    <tr>\n",
              "      <th>Hungary</th>\n",
              "      <td>12239.894</td>\n",
              "      <td>4.9</td>\n",
              "    </tr>\n",
              "    <tr>\n",
              "      <th>Korea</th>\n",
              "      <td>27195.197</td>\n",
              "      <td>5.8</td>\n",
              "    </tr>\n",
              "    <tr>\n",
              "      <th>France</th>\n",
              "      <td>37675.006</td>\n",
              "      <td>6.5</td>\n",
              "    </tr>\n",
              "    <tr>\n",
              "      <th>Australia</th>\n",
              "      <td>50961.865</td>\n",
              "      <td>7.3</td>\n",
              "    </tr>\n",
              "    <tr>\n",
              "      <th>United States</th>\n",
              "      <td>55805.204</td>\n",
              "      <td>7.2</td>\n",
              "    </tr>\n",
              "  </tbody>\n",
              "</table>\n",
              "</div>"
            ],
            "text/plain": [
              "               GDP per capita  Life satisfaction\n",
              "Country                                         \n",
              "Hungary             12239.894                4.9\n",
              "Korea               27195.197                5.8\n",
              "France              37675.006                6.5\n",
              "Australia           50961.865                7.3\n",
              "United States       55805.204                7.2"
            ]
          },
          "metadata": {
            "tags": []
          },
          "execution_count": 134
        }
      ]
    },
    {
      "metadata": {
        "id": "-vocHW_uWse-",
        "colab_type": "code",
        "outputId": "bd7a1e99-f1c3-40ef-f2d0-1e308177132f",
        "colab": {
          "base_uri": "https://localhost:8080/",
          "height": 272
        }
      },
      "cell_type": "code",
      "source": [
        "\n",
        "import numpy as np\n",
        "\n",
        "sample_data.plot(kind='scatter', x=\"GDP per capita\", y='Life satisfaction', figsize=(5,3))\n",
        "plt.axis([0, 60000, 0, 10])\n",
        "X=np.linspace(0, 60000, 1000)\n",
        "plt.plot(X, 2*X/100000, \"r\")\n",
        "plt.text(40000, 2.7, r\"$\\theta_0 = 0$\", fontsize=14, color=\"r\")\n",
        "plt.text(40000, 1.8, r\"$\\theta_1 = 2 \\times 10^{-5}$\", fontsize=14, color=\"r\")\n",
        "plt.plot(X, 8 - 5*X/100000, \"g\")\n",
        "plt.text(5000, 9.1, r\"$\\theta_0 = 8$\", fontsize=14, color=\"g\")\n",
        "plt.text(5000, 8.2, r\"$\\theta_1 = -5 \\times 10^{-5}$\", fontsize=14, color=\"g\")\n",
        "plt.plot(X, 4 + 5*X/100000, \"b\")\n",
        "plt.text(5000, 3.5, r\"$\\theta_0 = 4$\", fontsize=14, color=\"b\")\n",
        "plt.text(5000, 2.6, r\"$\\theta_1 = 5 \\times 10^{-5}$\", fontsize=14, color=\"b\")\n",
        "#save_fig('tweaking_model_params_plot')\n",
        "plt.show()"
      ],
      "execution_count": 135,
      "outputs": [
        {
          "output_type": "stream",
          "text": [
            "'c' argument looks like a single numeric RGB or RGBA sequence, which should be avoided as value-mapping will have precedence in case its length matches with 'x' & 'y'.  Please use a 2-D array with a single row if you really want to specify the same RGB or RGBA value for all points.\n"
          ],
          "name": "stderr"
        },
        {
          "output_type": "display_data",
          "data": {
            "image/png": "[encoded data removed]",
            "text/plain": [
              "<Figure size 360x216 with 1 Axes>"
            ]
          },
          "metadata": {
            "tags": []
          }
        }
      ]
    },
    {
      "metadata": {
        "id": "slPlzDJYW2Vp",
        "colab_type": "code",
        "outputId": "fb6f5aaa-bf22-40c5-aeca-f55155bafa0e",
        "colab": {
          "base_uri": "https://localhost:8080/",
          "height": 34
        }
      },
      "cell_type": "code",
      "source": [
        "from sklearn import linear_model\n",
        "lin1 = linear_model.LinearRegression()\n",
        "Xsample = np.c_[sample_data[\"GDP per capita\"]]\n",
        "ysample = np.c_[sample_data[\"Life satisfaction\"]]\n",
        "lin1.fit(Xsample, ysample)\n",
        "t0, t1 = lin1.intercept_[0], lin1.coef_[0][0]\n",
        "t0, t1"
      ],
      "execution_count": 136,
      "outputs": [
        {
          "output_type": "execute_result",
          "data": {
            "text/plain": [
              "(4.853052800266436, 4.911544589158484e-05)"
            ]
          },
          "metadata": {
            "tags": []
          },
          "execution_count": 136
        }
      ]
    },
    {
      "metadata": {
        "id": "kCmx9IHIW4ev",
        "colab_type": "code",
        "outputId": "51311da1-1c69-4505-9436-2a329ebf7736",
        "colab": {
          "base_uri": "https://localhost:8080/",
          "height": 272
        }
      },
      "cell_type": "code",
      "source": [
        "\n",
        "sample_data.plot(kind='scatter', x=\"GDP per capita\", y='Life satisfaction', figsize=(5,3))\n",
        "plt.axis([0, 60000, 0, 10])\n",
        "X=np.linspace(0, 60000, 1000)\n",
        "plt.plot(X, t0 + t1*X, \"b\")\n",
        "plt.text(5000, 3.1, r\"$\\theta_0 = 4.85$\", fontsize=14, color=\"b\")\n",
        "plt.text(5000, 2.2, r\"$\\theta_1 = 4.91 \\times 10^{-5}$\", fontsize=14, color=\"b\")\n",
        "#save_fig('best_fit_model_plot')\n",
        "plt.show()"
      ],
      "execution_count": 137,
      "outputs": [
        {
          "output_type": "stream",
          "text": [
            "'c' argument looks like a single numeric RGB or RGBA sequence, which should be avoided as value-mapping will have precedence in case its length matches with 'x' & 'y'.  Please use a 2-D array with a single row if you really want to specify the same RGB or RGBA value for all points.\n"
          ],
          "name": "stderr"
        },
        {
          "output_type": "display_data",
          "data": {
            "image/png": "[encoded data removed]",
            "text/plain": [
              "<Figure size 360x216 with 1 Axes>"
            ]
          },
          "metadata": {
            "tags": []
          }
        }
      ]
    },
    {
      "metadata": {
        "id": "EeW6qwmwW8XT",
        "colab_type": "code",
        "outputId": "751b5f35-34fa-46d7-a866-086d3211852d",
        "colab": {
          "base_uri": "https://localhost:8080/",
          "height": 51
        }
      },
      "cell_type": "code",
      "source": [
        "cyprus_gdp_per_capita = gdp_per_capita.loc[\"Cyprus\"][\"GDP per capita\"]\n",
        "print(cyprus_gdp_per_capita)\n",
        "cyprus_predicted_life_satisfaction = lin1.predict([[cyprus_gdp_per_capita]])[0][0]\n",
        "cyprus_predicted_life_satisfaction"
      ],
      "execution_count": 138,
      "outputs": [
        {
          "output_type": "stream",
          "text": [
            "22587.49\n"
          ],
          "name": "stdout"
        },
        {
          "output_type": "execute_result",
          "data": {
            "text/plain": [
              "5.96244744318815"
            ]
          },
          "metadata": {
            "tags": []
          },
          "execution_count": 138
        }
      ]
    },
    {
      "metadata": {
        "id": "y3TtpEhtW_N9",
        "colab_type": "code",
        "outputId": "51d20a4b-2cd3-435b-9805-d2d11dd93796",
        "colab": {
          "base_uri": "https://localhost:8080/",
          "height": 272
        }
      },
      "cell_type": "code",
      "source": [
        "sample_data.plot(kind='scatter', x=\"GDP per capita\", y='Life satisfaction', figsize=(5,3), s=1)\n",
        "X=np.linspace(0, 60000, 1000)\n",
        "plt.plot(X, t0 + t1*X, \"b\")\n",
        "plt.axis([0, 60000, 0, 10])\n",
        "plt.text(5000, 7.5, r\"$\\theta_0 = 4.85$\", fontsize=14, color=\"b\")\n",
        "plt.text(5000, 6.6, r\"$\\theta_1 = 4.91 \\times 10^{-5}$\", fontsize=14, color=\"b\")\n",
        "plt.plot([cyprus_gdp_per_capita, cyprus_gdp_per_capita], [0, cyprus_predicted_life_satisfaction], \"r--\")\n",
        "plt.text(25000, 5.0, r\"Prediction = 5.96\", fontsize=14, color=\"b\")\n",
        "plt.plot(cyprus_gdp_per_capita, cyprus_predicted_life_satisfaction, \"ro\")\n",
        "#save_fig('cyprus_prediction_plot')\n",
        "plt.show()"
      ],
      "execution_count": 139,
      "outputs": [
        {
          "output_type": "stream",
          "text": [
            "'c' argument looks like a single numeric RGB or RGBA sequence, which should be avoided as value-mapping will have precedence in case its length matches with 'x' & 'y'.  Please use a 2-D array with a single row if you really want to specify the same RGB or RGBA value for all points.\n"
          ],
          "name": "stderr"
        },
        {
          "output_type": "display_data",
          "data": {
            "image/png": "[encoded data removed]",
            "text/plain": [
              "<Figure size 360x216 with 1 Axes>"
            ]
          },
          "metadata": {
            "tags": []
          }
        }
      ]
    },
    {
      "metadata": {
        "id": "HyHkDsC_XFw3",
        "colab_type": "code",
        "outputId": "8ae1bd60-60c0-4f65-9b14-555fccf21cb4",
        "colab": {
          "base_uri": "https://localhost:8080/",
          "height": 173
        }
      },
      "cell_type": "code",
      "source": [
        "sample_data[7:10]"
      ],
      "execution_count": 140,
      "outputs": [
        {
          "output_type": "execute_result",
          "data": {
            "text/html": [
              "<div>\n",
              "<style scoped>\n",
              "    .dataframe tbody tr th:only-of-type {\n",
              "        vertical-align: middle;\n",
              "    }\n",
              "\n",
              "    .dataframe tbody tr th {\n",
              "        vertical-align: top;\n",
              "    }\n",
              "\n",
              "    .dataframe thead th {\n",
              "        text-align: right;\n",
              "    }\n",
              "</style>\n",
              "<table border=\"1\" class=\"dataframe\">\n",
              "  <thead>\n",
              "    <tr style=\"text-align: right;\">\n",
              "      <th></th>\n",
              "      <th>GDP per capita</th>\n",
              "      <th>Life satisfaction</th>\n",
              "    </tr>\n",
              "    <tr>\n",
              "      <th>Country</th>\n",
              "      <th></th>\n",
              "      <th></th>\n",
              "    </tr>\n",
              "  </thead>\n",
              "  <tbody>\n",
              "    <tr>\n",
              "      <th>Portugal</th>\n",
              "      <td>19121.592</td>\n",
              "      <td>5.1</td>\n",
              "    </tr>\n",
              "    <tr>\n",
              "      <th>Slovenia</th>\n",
              "      <td>20732.482</td>\n",
              "      <td>5.7</td>\n",
              "    </tr>\n",
              "    <tr>\n",
              "      <th>Spain</th>\n",
              "      <td>25864.721</td>\n",
              "      <td>6.5</td>\n",
              "    </tr>\n",
              "  </tbody>\n",
              "</table>\n",
              "</div>"
            ],
            "text/plain": [
              "          GDP per capita  Life satisfaction\n",
              "Country                                    \n",
              "Portugal       19121.592                5.1\n",
              "Slovenia       20732.482                5.7\n",
              "Spain          25864.721                6.5"
            ]
          },
          "metadata": {
            "tags": []
          },
          "execution_count": 140
        }
      ]
    },
    {
      "metadata": {
        "id": "gdJ1D6klXIIo",
        "colab_type": "code",
        "outputId": "0fa7a1bc-323b-4b1f-b749-e0de0d97b090",
        "colab": {
          "base_uri": "https://localhost:8080/",
          "height": 34
        }
      },
      "cell_type": "code",
      "source": [
        "(5.1+5.7+6.5)/3"
      ],
      "execution_count": 141,
      "outputs": [
        {
          "output_type": "execute_result",
          "data": {
            "text/plain": [
              "5.766666666666667"
            ]
          },
          "metadata": {
            "tags": []
          },
          "execution_count": 141
        }
      ]
    },
    {
      "metadata": {
        "id": "-Bc7GTtKXLHS",
        "colab_type": "code",
        "colab": {}
      },
      "cell_type": "code",
      "source": [
        "backup = oecd_bli, gdp_per_capita\n",
        "\n",
        "def prepare_country_stats(oecd_bli, gdp_per_capita):\n",
        "    oecd_bli = oecd_bli[oecd_bli[\"INEQUALITY\"]==\"TOT\"]\n",
        "    oecd_bli = oecd_bli.pivot(index=\"Country\", columns=\"Indicator\", values=\"Value\")\n",
        "    gdp_per_capita.rename(columns={\"2015\": \"GDP per capita\"}, inplace=True)\n",
        "    gdp_per_capita.set_index(\"Country\", inplace=True)\n",
        "    full_country_stats = pd.merge(left=oecd_bli, right=gdp_per_capita,\n",
        "                                  left_index=True, right_index=True)\n",
        "    full_country_stats.sort_values(by=\"GDP per capita\", inplace=True)\n",
        "    remove_indices = [0, 1, 6, 8, 33, 34, 35]\n",
        "    keep_indices = list(set(range(36)) - set(remove_indices))\n",
        "    return full_country_stats[[\"GDP per capita\", 'Life satisfaction']].iloc[keep_indices]"
      ],
      "execution_count": 0,
      "outputs": []
    },
    {
      "metadata": {
        "id": "UOVtaYI8XNyJ",
        "colab_type": "code",
        "outputId": "15abca44-103e-4679-ccd7-5ed9a774e284",
        "colab": {
          "base_uri": "https://localhost:8080/",
          "height": 339
        }
      },
      "cell_type": "code",
      "source": [
        "# Code example\n",
        "import matplotlib.pyplot as plt\n",
        "import numpy as np\n",
        "import pandas as pd\n",
        "import sklearn\n",
        "\n",
        "# Load the data\n",
        "oecd_bli = pd.read_csv(\"https://raw.githubusercontent.com/ageron/handson-ml/master/datasets/lifesat/oecd_bli_2015.csv\", thousands=',')\n",
        "gdp_per_capita = pd.read_csv(\"https://raw.githubusercontent.com/ageron/handson-ml/master/datasets/lifesat/gdp_per_capita.csv\",thousands=',',delimiter='\\t',\n",
        "                             encoding='latin1', na_values=\"n/a\")\n",
        "\n",
        "# Prepare the data\n",
        "country_stats = prepare_country_stats(oecd_bli, gdp_per_capita)\n",
        "X = np.c_[country_stats[\"GDP per capita\"]]\n",
        "y = np.c_[country_stats[\"Life satisfaction\"]]\n",
        "\n",
        "# Visualize the data\n",
        "country_stats.plot(kind='scatter', x=\"GDP per capita\", y='Life satisfaction')\n",
        "plt.show()\n",
        "\n",
        "# Select a linear model\n",
        "model = sklearn.linear_model.LinearRegression()\n",
        "\n",
        "# Train the model\n",
        "model.fit(X, y)\n",
        "\n",
        "# Make a prediction for Cyprus\n",
        "X_new = [[22587]]  # Cyprus' GDP per capita\n",
        "print(model.predict(X_new)) # outputs [[ 5.96242338]]"
      ],
      "execution_count": 143,
      "outputs": [
        {
          "output_type": "stream",
          "text": [
            "'c' argument looks like a single numeric RGB or RGBA sequence, which should be avoided as value-mapping will have precedence in case its length matches with 'x' & 'y'.  Please use a 2-D array with a single row if you really want to specify the same RGB or RGBA value for all points.\n"
          ],
          "name": "stderr"
        },
        {
          "output_type": "display_data",
          "data": {
            "image/png": "[encoded data removed]",
            "text/plain": [
              "<Figure size 432x288 with 1 Axes>"
            ]
          },
          "metadata": {
            "tags": []
          }
        },
        {
          "output_type": "stream",
          "text": [
            "[[5.96242338]]\n"
          ],
          "name": "stdout"
        }
      ]
    },
    {
      "metadata": {
        "id": "ydklnN-FXh2K",
        "colab_type": "code",
        "colab": {}
      },
      "cell_type": "code",
      "source": [
        "oecd_bli, gdp_per_capita = backup"
      ],
      "execution_count": 0,
      "outputs": []
    },
    {
      "metadata": {
        "id": "IhjScAGnXjdu",
        "colab_type": "code",
        "outputId": "a70e40d4-3e10-4e62-af30-28180cb901c9",
        "colab": {
          "base_uri": "https://localhost:8080/",
          "height": 297
        }
      },
      "cell_type": "code",
      "source": [
        "missing_data"
      ],
      "execution_count": 145,
      "outputs": [
        {
          "output_type": "execute_result",
          "data": {
            "text/html": [
              "<div>\n",
              "<style scoped>\n",
              "    .dataframe tbody tr th:only-of-type {\n",
              "        vertical-align: middle;\n",
              "    }\n",
              "\n",
              "    .dataframe tbody tr th {\n",
              "        vertical-align: top;\n",
              "    }\n",
              "\n",
              "    .dataframe thead th {\n",
              "        text-align: right;\n",
              "    }\n",
              "</style>\n",
              "<table border=\"1\" class=\"dataframe\">\n",
              "  <thead>\n",
              "    <tr style=\"text-align: right;\">\n",
              "      <th></th>\n",
              "      <th>GDP per capita</th>\n",
              "      <th>Life satisfaction</th>\n",
              "    </tr>\n",
              "    <tr>\n",
              "      <th>Country</th>\n",
              "      <th></th>\n",
              "      <th></th>\n",
              "    </tr>\n",
              "  </thead>\n",
              "  <tbody>\n",
              "    <tr>\n",
              "      <th>Brazil</th>\n",
              "      <td>8669.998</td>\n",
              "      <td>7.0</td>\n",
              "    </tr>\n",
              "    <tr>\n",
              "      <th>Mexico</th>\n",
              "      <td>9009.280</td>\n",
              "      <td>6.7</td>\n",
              "    </tr>\n",
              "    <tr>\n",
              "      <th>Chile</th>\n",
              "      <td>13340.905</td>\n",
              "      <td>6.7</td>\n",
              "    </tr>\n",
              "    <tr>\n",
              "      <th>Czech Republic</th>\n",
              "      <td>17256.918</td>\n",
              "      <td>6.5</td>\n",
              "    </tr>\n",
              "    <tr>\n",
              "      <th>Norway</th>\n",
              "      <td>74822.106</td>\n",
              "      <td>7.4</td>\n",
              "    </tr>\n",
              "    <tr>\n",
              "      <th>Switzerland</th>\n",
              "      <td>80675.308</td>\n",
              "      <td>7.5</td>\n",
              "    </tr>\n",
              "    <tr>\n",
              "      <th>Luxembourg</th>\n",
              "      <td>101994.093</td>\n",
              "      <td>6.9</td>\n",
              "    </tr>\n",
              "  </tbody>\n",
              "</table>\n",
              "</div>"
            ],
            "text/plain": [
              "                GDP per capita  Life satisfaction\n",
              "Country                                          \n",
              "Brazil                8669.998                7.0\n",
              "Mexico                9009.280                6.7\n",
              "Chile                13340.905                6.7\n",
              "Czech Republic       17256.918                6.5\n",
              "Norway               74822.106                7.4\n",
              "Switzerland          80675.308                7.5\n",
              "Luxembourg          101994.093                6.9"
            ]
          },
          "metadata": {
            "tags": []
          },
          "execution_count": 145
        }
      ]
    },
    {
      "metadata": {
        "id": "AJyaABLgXjcx",
        "colab_type": "code",
        "colab": {}
      },
      "cell_type": "code",
      "source": [
        "position_text2 = {\n",
        "    \"Brazil\": (1000, 9.0),\n",
        "    \"Mexico\": (11000, 9.0),\n",
        "    \"Chile\": (25000, 9.0),\n",
        "    \"Czech Republic\": (35000, 9.0),\n",
        "    \"Norway\": (60000, 3),\n",
        "    \"Switzerland\": (72000, 3.0),\n",
        "    \"Luxembourg\": (90000, 3.0),\n",
        "}"
      ],
      "execution_count": 0,
      "outputs": []
    },
    {
      "metadata": {
        "id": "ky-w8SBQXIH3",
        "colab_type": "code",
        "outputId": "4f500bb9-3114-4acf-ed25-efb1e9835fc9",
        "colab": {
          "base_uri": "https://localhost:8080/",
          "height": 272
        }
      },
      "cell_type": "code",
      "source": [
        "sample_data.plot(kind='scatter', x=\"GDP per capita\", y='Life satisfaction', figsize=(8,3))\n",
        "plt.axis([0, 110000, 0, 10])\n",
        "\n",
        "for country, pos_text in position_text2.items():\n",
        "    pos_data_x, pos_data_y = missing_data.loc[country]\n",
        "    plt.annotate(country, xy=(pos_data_x, pos_data_y), xytext=pos_text,\n",
        "            arrowprops=dict(facecolor='black', width=0.5, shrink=0.1, headwidth=5))\n",
        "    plt.plot(pos_data_x, pos_data_y, \"rs\")\n",
        "\n",
        "X=np.linspace(0, 110000, 1000)\n",
        "plt.plot(X, t0 + t1*X, \"b:\")\n",
        "\n",
        "lin_reg_full = linear_model.LinearRegression()\n",
        "Xfull = np.c_[full_country_stats[\"GDP per capita\"]]\n",
        "yfull = np.c_[full_country_stats[\"Life satisfaction\"]]\n",
        "lin_reg_full.fit(Xfull, yfull)\n",
        "\n",
        "t0full, t1full = lin_reg_full.intercept_[0], lin_reg_full.coef_[0][0]\n",
        "X = np.linspace(0, 110000, 1000)\n",
        "plt.plot(X, t0full + t1full * X, \"k\")\n",
        "\n",
        "#save_fig('representative_training_data_scatterplot')\n",
        "plt.show()"
      ],
      "execution_count": 147,
      "outputs": [
        {
          "output_type": "stream",
          "text": [
            "'c' argument looks like a single numeric RGB or RGBA sequence, which should be avoided as value-mapping will have precedence in case its length matches with 'x' & 'y'.  Please use a 2-D array with a single row if you really want to specify the same RGB or RGBA value for all points.\n"
          ],
          "name": "stderr"
        },
        {
          "output_type": "display_data",
          "data": {
            "image/png": "[encoded data removed]",
            "text/plain": [
              "<Figure size 576x216 with 1 Axes>"
            ]
          },
          "metadata": {
            "tags": []
          }
        }
      ]
    },
    {
      "metadata": {
        "id": "kJLTfwhQXxLL",
        "colab_type": "code",
        "outputId": "e3fb2b1e-9886-4459-e737-31cbf679a099",
        "colab": {
          "base_uri": "https://localhost:8080/",
          "height": 340
        }
      },
      "cell_type": "code",
      "source": [
        "full_country_stats.plot(kind='scatter', x=\"GDP per capita\", y='Life satisfaction', figsize=(8,3))\n",
        "plt.axis([0, 110000, 0, 10])\n",
        "\n",
        "from sklearn import preprocessing\n",
        "from sklearn import pipeline\n",
        "\n",
        "poly = preprocessing.PolynomialFeatures(degree=60, include_bias=False)\n",
        "scaler = preprocessing.StandardScaler()\n",
        "lin_reg2 = linear_model.LinearRegression()\n",
        "\n",
        "pipeline_reg = pipeline.Pipeline([('poly', poly), ('scal', scaler), ('lin', lin_reg2)])\n",
        "pipeline_reg.fit(Xfull, yfull)\n",
        "curve = pipeline_reg.predict(X[:, np.newaxis])\n",
        "plt.plot(X, curve)\n",
        "#save_fig('overfitting_model_plot')\n",
        "plt.show()"
      ],
      "execution_count": 148,
      "outputs": [
        {
          "output_type": "stream",
          "text": [
            "'c' argument looks like a single numeric RGB or RGBA sequence, which should be avoided as value-mapping will have precedence in case its length matches with 'x' & 'y'.  Please use a 2-D array with a single row if you really want to specify the same RGB or RGBA value for all points.\n",
            "/usr/local/lib/python3.6/dist-packages/numpy/lib/nanfunctions.py:1320: RuntimeWarning: overflow encountered in multiply\n",
            "  sqr = np.multiply(arr, arr, out=arr)\n",
            "/usr/local/lib/python3.6/dist-packages/numpy/core/_methods.py:32: RuntimeWarning: overflow encountered in reduce\n",
            "  return umr_sum(a, axis, dtype, out, keepdims)\n"
          ],
          "name": "stderr"
        },
        {
          "output_type": "display_data",
          "data": {
            "image/png": "[encoded data removed]",
            "text/plain": [
              "<Figure size 576x216 with 1 Axes>"
            ]
          },
          "metadata": {
            "tags": []
          }
        }
      ]
    },
    {
      "metadata": {
        "id": "mz51OZXQX1EG",
        "colab_type": "code",
        "outputId": "1eafe0fa-49a5-420a-f5e2-cd249746582c",
        "colab": {
          "base_uri": "https://localhost:8080/",
          "height": 119
        }
      },
      "cell_type": "code",
      "source": [
        "full_country_stats.loc[[c for c in full_country_stats.index if \"W\" in c.upper()]][\"Life satisfaction\"]"
      ],
      "execution_count": 149,
      "outputs": [
        {
          "output_type": "execute_result",
          "data": {
            "text/plain": [
              "Country\n",
              "New Zealand    7.3\n",
              "Sweden         7.2\n",
              "Norway         7.4\n",
              "Switzerland    7.5\n",
              "Name: Life satisfaction, dtype: float64"
            ]
          },
          "metadata": {
            "tags": []
          },
          "execution_count": 149
        }
      ]
    },
    {
      "metadata": {
        "id": "1ia4Twq_X3W1",
        "colab_type": "code",
        "outputId": "71d8b76b-b9f5-4b88-818c-4de68bb99d16",
        "colab": {
          "base_uri": "https://localhost:8080/",
          "height": 235
        }
      },
      "cell_type": "code",
      "source": [
        "gdp_per_capita.loc[[c for c in gdp_per_capita.index if \"W\" in c.upper()]].head()"
      ],
      "execution_count": 150,
      "outputs": [
        {
          "output_type": "execute_result",
          "data": {
            "text/html": [
              "<div>\n",
              "<style scoped>\n",
              "    .dataframe tbody tr th:only-of-type {\n",
              "        vertical-align: middle;\n",
              "    }\n",
              "\n",
              "    .dataframe tbody tr th {\n",
              "        vertical-align: top;\n",
              "    }\n",
              "\n",
              "    .dataframe thead th {\n",
              "        text-align: right;\n",
              "    }\n",
              "</style>\n",
              "<table border=\"1\" class=\"dataframe\">\n",
              "  <thead>\n",
              "    <tr style=\"text-align: right;\">\n",
              "      <th></th>\n",
              "      <th>Subject Descriptor</th>\n",
              "      <th>Units</th>\n",
              "      <th>Scale</th>\n",
              "      <th>Country/Series-specific Notes</th>\n",
              "      <th>GDP per capita</th>\n",
              "      <th>Estimates Start After</th>\n",
              "    </tr>\n",
              "    <tr>\n",
              "      <th>Country</th>\n",
              "      <th></th>\n",
              "      <th></th>\n",
              "      <th></th>\n",
              "      <th></th>\n",
              "      <th></th>\n",
              "      <th></th>\n",
              "    </tr>\n",
              "  </thead>\n",
              "  <tbody>\n",
              "    <tr>\n",
              "      <th>Botswana</th>\n",
              "      <td>Gross domestic product per capita, current prices</td>\n",
              "      <td>U.S. dollars</td>\n",
              "      <td>Units</td>\n",
              "      <td>See notes for:  Gross domestic product, curren...</td>\n",
              "      <td>6040.957</td>\n",
              "      <td>2008.0</td>\n",
              "    </tr>\n",
              "    <tr>\n",
              "      <th>Kuwait</th>\n",
              "      <td>Gross domestic product per capita, current prices</td>\n",
              "      <td>U.S. dollars</td>\n",
              "      <td>Units</td>\n",
              "      <td>See notes for:  Gross domestic product, curren...</td>\n",
              "      <td>29363.027</td>\n",
              "      <td>2014.0</td>\n",
              "    </tr>\n",
              "    <tr>\n",
              "      <th>Malawi</th>\n",
              "      <td>Gross domestic product per capita, current prices</td>\n",
              "      <td>U.S. dollars</td>\n",
              "      <td>Units</td>\n",
              "      <td>See notes for:  Gross domestic product, curren...</td>\n",
              "      <td>354.275</td>\n",
              "      <td>2011.0</td>\n",
              "    </tr>\n",
              "    <tr>\n",
              "      <th>New Zealand</th>\n",
              "      <td>Gross domestic product per capita, current prices</td>\n",
              "      <td>U.S. dollars</td>\n",
              "      <td>Units</td>\n",
              "      <td>See notes for:  Gross domestic product, curren...</td>\n",
              "      <td>37044.891</td>\n",
              "      <td>2015.0</td>\n",
              "    </tr>\n",
              "    <tr>\n",
              "      <th>Norway</th>\n",
              "      <td>Gross domestic product per capita, current prices</td>\n",
              "      <td>U.S. dollars</td>\n",
              "      <td>Units</td>\n",
              "      <td>See notes for:  Gross domestic product, curren...</td>\n",
              "      <td>74822.106</td>\n",
              "      <td>2015.0</td>\n",
              "    </tr>\n",
              "  </tbody>\n",
              "</table>\n",
              "</div>"
            ],
            "text/plain": [
              "                                            Subject Descriptor         Units  \\\n",
              "Country                                                                        \n",
              "Botswana     Gross domestic product per capita, current prices  U.S. dollars   \n",
              "Kuwait       Gross domestic product per capita, current prices  U.S. dollars   \n",
              "Malawi       Gross domestic product per capita, current prices  U.S. dollars   \n",
              "New Zealand  Gross domestic product per capita, current prices  U.S. dollars   \n",
              "Norway       Gross domestic product per capita, current prices  U.S. dollars   \n",
              "\n",
              "             Scale                      Country/Series-specific Notes  \\\n",
              "Country                                                                 \n",
              "Botswana     Units  See notes for:  Gross domestic product, curren...   \n",
              "Kuwait       Units  See notes for:  Gross domestic product, curren...   \n",
              "Malawi       Units  See notes for:  Gross domestic product, curren...   \n",
              "New Zealand  Units  See notes for:  Gross domestic product, curren...   \n",
              "Norway       Units  See notes for:  Gross domestic product, curren...   \n",
              "\n",
              "             GDP per capita  Estimates Start After  \n",
              "Country                                             \n",
              "Botswana           6040.957                 2008.0  \n",
              "Kuwait            29363.027                 2014.0  \n",
              "Malawi              354.275                 2011.0  \n",
              "New Zealand       37044.891                 2015.0  \n",
              "Norway            74822.106                 2015.0  "
            ]
          },
          "metadata": {
            "tags": []
          },
          "execution_count": 150
        }
      ]
    },
    {
      "metadata": {
        "id": "PSl6JFecX7SF",
        "colab_type": "code",
        "outputId": "ecd3acc9-17f7-46e1-eec2-73cb372d1a11",
        "colab": {
          "base_uri": "https://localhost:8080/",
          "height": 235
        }
      },
      "cell_type": "code",
      "source": [
        "plt.figure(figsize=(8,3))\n",
        "\n",
        "plt.xlabel(\"GDP per capita\")\n",
        "plt.ylabel('Life satisfaction')\n",
        "\n",
        "plt.plot(list(sample_data[\"GDP per capita\"]), list(sample_data[\"Life satisfaction\"]), \"bo\")\n",
        "plt.plot(list(missing_data[\"GDP per capita\"]), list(missing_data[\"Life satisfaction\"]), \"rs\")\n",
        "\n",
        "X = np.linspace(0, 110000, 1000)\n",
        "plt.plot(X, t0full + t1full * X, \"r--\", label=\"Linear model on all data\")\n",
        "plt.plot(X, t0 + t1*X, \"b:\", label=\"Linear model on partial data\")\n",
        "\n",
        "ridge = linear_model.Ridge(alpha=10**9.5)\n",
        "Xsample = np.c_[sample_data[\"GDP per capita\"]]\n",
        "ysample = np.c_[sample_data[\"Life satisfaction\"]]\n",
        "ridge.fit(Xsample, ysample)\n",
        "t0ridge, t1ridge = ridge.intercept_[0], ridge.coef_[0][0]\n",
        "plt.plot(X, t0ridge + t1ridge * X, \"b\", label=\"Regularized linear model on partial data\")\n",
        "\n",
        "plt.legend(loc=\"lower right\")\n",
        "plt.axis([0, 110000, 0, 10])\n",
        "#save_fig('ridge_model_plot')\n",
        "plt.show()"
      ],
      "execution_count": 151,
      "outputs": [
        {
          "output_type": "display_data",
          "data": {
            "image/png": "[encoded data removed]",
            "text/plain": [
              "<Figure size 576x216 with 1 Axes>"
            ]
          },
          "metadata": {
            "tags": []
          }
        }
      ]
    },
    {
      "metadata": {
        "id": "YEY0YHPqX_JN",
        "colab_type": "code",
        "colab": {}
      },
      "cell_type": "code",
      "source": [
        "backup = oecd_bli, gdp_per_capita\n",
        "\n",
        "def prepare_country_stats(oecd_bli, gdp_per_capita):\n",
        "    return sample_data"
      ],
      "execution_count": 0,
      "outputs": []
    },
    {
      "metadata": {
        "id": "kFiqzIEcYBSj",
        "colab_type": "code",
        "colab": {}
      },
      "cell_type": "code",
      "source": [
        "\n",
        "# Replace this linear model:\n",
        "model = sklearn.linear_model.LinearRegression()"
      ],
      "execution_count": 0,
      "outputs": []
    },
    {
      "metadata": {
        "id": "XPebX_JJYC4S",
        "colab_type": "code",
        "colab": {}
      },
      "cell_type": "code",
      "source": [
        "\n",
        "# with this k-neighbors regression model:\n",
        "model = sklearn.neighbors.KNeighborsRegressor(n_neighbors=3)"
      ],
      "execution_count": 0,
      "outputs": []
    },
    {
      "metadata": {
        "id": "MF30yBmqYE-y",
        "colab_type": "code",
        "outputId": "e5eb22a6-5d86-4d4e-ce49-4cfaae8d8823",
        "colab": {
          "base_uri": "https://localhost:8080/",
          "height": 34
        }
      },
      "cell_type": "code",
      "source": [
        "X = np.c_[country_stats[\"GDP per capita\"]]\n",
        "y = np.c_[country_stats[\"Life satisfaction\"]]\n",
        "\n",
        "# Train the model\n",
        "model.fit(X, y)\n",
        "\n",
        "# Make a prediction for Cyprus\n",
        "X_new = np.array([[22587.0]])  # Cyprus' GDP per capita\n",
        "print(model.predict(X_new)) # outputs [[ 5.76666667]]"
      ],
      "execution_count": 155,
      "outputs": [
        {
          "output_type": "stream",
          "text": [
            "[[5.76666667]]\n"
          ],
          "name": "stdout"
        }
      ]
    }
  ]
}